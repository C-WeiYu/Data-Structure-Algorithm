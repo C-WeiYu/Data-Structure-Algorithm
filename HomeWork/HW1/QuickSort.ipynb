{
 "cells": [
  {
   "cell_type": "markdown",
   "metadata": {},
   "source": [
    "一開始我構想的是如何先將原始的List以quicksort的方式排列第一次，我取List中的最後一個數為基準點，並和其他元素比大小排列，寫完之後我發現，為了要讓我能將第一次排列完的結果繼續比較大小直到正確為止，因此我設了三個List，把比較完第一次的結果分為比基準點小的left、等於基準點的mid、大於基準點的right，但一開始我並沒有定義一個函數叫quciksort，因此我還在想要如何讓我第一次分類完的List再繼續進行比較"
   ]
  },
  {
   "cell_type": "code",
   "execution_count": null,
   "metadata": {},
   "outputs": [],
   "source": [
    "left=[] \n",
    "right=[]\n",
    "mid=[]     \n",
    "if len(list)<=1:\n",
    "    return list \n",
    "else:\n",
    "    pivot=list[-1] \n",
    "    for i in list:\n",
    "        if i < pivot:\n",
    "            left.append(i) \n",
    "        elif i==pivot:\n",
    "            mid.append(i) \n",
    "        else:\n",
    "            right.append(i)\n",
    "return left+mid+right"
   ]
  },
  {
   "cell_type": "markdown",
   "metadata": {},
   "source": [
    "再經過爬文之後，我發現可以將一開始寫的程式設成一個函數，並將第一次排列的結果回傳到函數中，直到最後每個list最多都只剩一個元素，就有了完整的結果並附上註解"
   ]
  },
  {
   "cell_type": "code",
   "execution_count": 5,
   "metadata": {},
   "outputs": [],
   "source": [
    "def quicksort(list):\n",
    "    left=[] \n",
    "    right=[]\n",
    "    mid=[] #建立三個空的list，用來放置比較完的元素\n",
    "    \n",
    "    if len(list)<=1:\n",
    "        return list #當list裡的元素數量<=1，直接回傳list，不須再進行大小比較\n",
    "    else:\n",
    "        pivot=list[-1] #以list中最右邊的數當作比較的基準點\n",
    "        for i in list:\n",
    "            if i < pivot:\n",
    "                left.append(i) #當元素<基準點，放入基準點左邊，名為left的list\n",
    "            elif i==pivot:\n",
    "                mid.append(i) #當元素=基準點，此元素及為基準點，放入名為mid的list\n",
    "            else:\n",
    "                right.append(i) #當元素>基準點，放入基準點右邊，名為right的list\n",
    "    left=quicksort(left) #當left、right中的元素數量>=2，則再跑一次上述的動作\n",
    "    right=quicksort(right)\n",
    "    return left+mid+right#當第一層left、mid、right中的元素都已排列好後，回傳三個list中的值"
   ]
  },
  {
   "cell_type": "code",
   "execution_count": 6,
   "metadata": {},
   "outputs": [
    {
     "data": {
      "text/plain": [
       "[0, 0, 1, 1, 1, 2, 2, 3, 3, 3, 3, 3, 4, 4, 5, 5, 5, 6, 7, 7, 7]"
      ]
     },
     "execution_count": 6,
     "metadata": {},
     "output_type": "execute_result"
    }
   ],
   "source": [
    "Q=[2,5,3,1,4,2,7,5,3,1,3,6,7,0,0,4,1,3,7,3,5]\n",
    "quicksort(Q)"
   ]
  },
  {
   "cell_type": "markdown",
   "metadata": {},
   "source": [
    "時間複雜度:\n",
    "Average Time:O(n log n )\n",
    "Best Time:O(n log n )\n",
    "Worst Time:O(n^2)"
   ]
  }
 ],
 "metadata": {
  "kernelspec": {
   "display_name": "Python 3",
   "language": "python",
   "name": "python3"
  },
  "language_info": {
   "codemirror_mode": {
    "name": "ipython",
    "version": 3
   },
   "file_extension": ".py",
   "mimetype": "text/x-python",
   "name": "python",
   "nbconvert_exporter": "python",
   "pygments_lexer": "ipython3",
   "version": "3.7.1"
  }
 },
 "nbformat": 4,
 "nbformat_minor": 2
}
