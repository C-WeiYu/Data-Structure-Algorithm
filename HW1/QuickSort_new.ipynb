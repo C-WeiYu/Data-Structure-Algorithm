{
 "cells": [
  {
   "cell_type": "markdown",
   "metadata": {},
   "source": [
    "首先一開始我先設了一個list:[1,4,2,6,3,5]\n",
    "\n",
    "我的構想是先取list中最右邊的數(5)為基準點，以迴圈的方式讓list中的數去和基準點比大小\n",
    "\n",
    "當數字<基準點，則丟到基準點的「左邊」\n",
    "\n",
    "當數字=基準點，則此數字即為基準點\n",
    "\n",
    "當數字>基準點，則丟到基準點的「右邊」\n",
    "\n",
    "如下"
   ]
  },
  {
   "cell_type": "code",
   "execution_count": null,
   "metadata": {},
   "outputs": [],
   "source": [
    "list=[1,4,2,6,3,5]\n",
    "pivot=list[-1]\n",
    "for i in list:\n",
    "    if i < pivot:\n",
    "        \n",
    "    elif i == pivot:\n",
    "        \n",
    "    else i > pivot:"
   ]
  },
  {
   "cell_type": "markdown",
   "metadata": {},
   "source": [
    "這時的我正在思考我該如何將比完的數分別排在基準點左邊、右邊\n",
    "\n",
    "這裡我有兩個想法:\n",
    "\n",
    "(1)每當我比完一個數，就利用比較的結果將兩個數字交換位置，\n",
    "   \n",
    "EX:\n",
    "\n",
    "6原本在5的左邊，當比完之後(6>5)，所以6和5的位置交換\n",
    "      \n",
    "   如果6>5而原本6就在5的右邊，則兩個數字位置不變\n",
    "      \n",
    "(2)我額外多設三個list，對我而言:\n",
    "\n",
    "   基準點在「整理完的list」中是中心位子，因此我設了一個叫mid的空list去擺基準點，\n",
    "   \n",
    "   而比基準點小的就會在基準點左邊，因此我設了一個叫left的空list去放比基準點小的數，\n",
    "   \n",
    "   而比基準點大的就會在基準點的右邊，因此我設了一個叫right的空list放比基準點大的數\n",
    "   \n",
    "   最後回傳三個list合併，就完成了「第一次排列」\n",
    "\n",
    "一開始我想過兩個方法分別應該怎麼進行，但最後我只想出了(2)的方法，如下"
   ]
  },
  {
   "cell_type": "code",
   "execution_count": 9,
   "metadata": {},
   "outputs": [
    {
     "ename": "SyntaxError",
     "evalue": "'return' outside function (<ipython-input-9-bdbf71cba320>, line 14)",
     "output_type": "error",
     "traceback": [
      "\u001b[1;36m  File \u001b[1;32m\"<ipython-input-9-bdbf71cba320>\"\u001b[1;36m, line \u001b[1;32m14\u001b[0m\n\u001b[1;33m    return left+mid+right\u001b[0m\n\u001b[1;37m                         ^\u001b[0m\n\u001b[1;31mSyntaxError\u001b[0m\u001b[1;31m:\u001b[0m 'return' outside function\n"
     ]
    }
   ],
   "source": [
    "list=[1,4,2,6,3,5]\n",
    "left=[] \n",
    "right=[]\n",
    "mid=[]     \n",
    "pivot=list[-1] \n",
    "for i in list:\n",
    "    if i < pivot:\n",
    "        left.append(i) \n",
    "    elif i==pivot:\n",
    "        mid.append(i) \n",
    "    else:\n",
    "        right.append(i)\n",
    "return left+mid+right"
   ]
  },
  {
   "cell_type": "markdown",
   "metadata": {},
   "source": [
    "這裡出現了SyntaxError: 'return' outside function\n",
    "\n",
    "一開始我不懂是什麼意思，因此我改為print"
   ]
  },
  {
   "cell_type": "code",
   "execution_count": 11,
   "metadata": {},
   "outputs": [
    {
     "name": "stdout",
     "output_type": "stream",
     "text": [
      "[1, 4, 2, 3, 5, 6]\n"
     ]
    }
   ],
   "source": [
    "list=[1,4,2,6,3,5]\n",
    "left=[] \n",
    "right=[]\n",
    "mid=[]     \n",
    "pivot=list[-1] \n",
    "for i in list:\n",
    "    if i < pivot:\n",
    "        left.append(i) \n",
    "    elif i==pivot:\n",
    "        mid.append(i) \n",
    "    else:\n",
    "        right.append(i)\n",
    "print(left+mid+right)"
   ]
  },
  {
   "cell_type": "markdown",
   "metadata": {},
   "source": [
    "上述結果我稱之為「第一次排列」\n",
    "\n",
    "針對剛剛SyntaxError: 'return' outside function\n",
    "\n",
    "我去參考了網站:https://www.jianshu.com/p/97a3fb4b4db8 ，得知return 必須搭配 def\n",
    "\n",
    "\n",
    "而結果出來之後，我開始思考該如何把第一次排完的left繼續排列\n",
    "而right裡面也只有一個數字，應該停止排列\n",
    "\n",
    "這裡我思考了很久該如何處理，\n",
    "\n",
    "我知道如果len(left、right)>=2，必須經過與上面相同的處理方式，\n",
    "但還不知道可以將上述的程式碼寫成一個function，然後將left、right再丟入\n",
    "\n",
    "所以我先寫了如果len(list)<=1，則直接回傳list"
   ]
  },
  {
   "cell_type": "code",
   "execution_count": 15,
   "metadata": {},
   "outputs": [
    {
     "name": "stdout",
     "output_type": "stream",
     "text": [
      "[1, 4, 2, 3, 5, 6]\n"
     ]
    }
   ],
   "source": [
    "list=[1,4,2,6,3,5]\n",
    "left=[] \n",
    "right=[]\n",
    "mid=[]\n",
    "pivot=list[-1]\n",
    "if len(list)<=1:\n",
    "    print(list) \n",
    "else:\n",
    "    for i in list:\n",
    "        if i < pivot:\n",
    "            left.append(i)\n",
    "        elif i==pivot:\n",
    "            mid.append(i)\n",
    "        else:\n",
    "            right.append(i)\n",
    "print(left+mid+right)"
   ]
  },
  {
   "cell_type": "markdown",
   "metadata": {},
   "source": [
    "為了將left、right重複上述程式碼的動作，\n",
    "\n",
    "這裡我參考了網站:http://jialin128.pixnet.net/blog/post/142927691-%5b-%E8%B3%87%E6%96%99%E7%B5%90%E6%A7%8B-%5d-%E5%BF%AB%E9%80%9F%E6%8E%92%E5%BA%8F%E6%B3%95%EF%BC%88quick-sort%EF%BC%89in-python\n",
    "\n",
    "將上述的程式碼寫以def方法寫成一個function，\n",
    "並根據剛剛上面查的，return要搭配def，\n",
    "\n",
    "因此我把原本的print改為return"
   ]
  },
  {
   "cell_type": "code",
   "execution_count": 17,
   "metadata": {},
   "outputs": [],
   "source": [
    "def quicksort(list):\n",
    "    left=[] \n",
    "    right=[]\n",
    "    mid=[]\n",
    "    pivot=list[-1]\n",
    "    if len(list)<=1:\n",
    "        return list \n",
    "    else:\n",
    "        for i in list:\n",
    "            if i < pivot:\n",
    "                left.append(i) \n",
    "            elif i==pivot:\n",
    "                mid.append(i)\n",
    "            else:\n",
    "                right.append(i)\n",
    "    left=quicksort(left)\n",
    "    right=quicksort(right)\n",
    "    return left+mid+right"
   ]
  },
  {
   "cell_type": "code",
   "execution_count": 20,
   "metadata": {},
   "outputs": [
    {
     "ename": "IndexError",
     "evalue": "list index out of range",
     "output_type": "error",
     "traceback": [
      "\u001b[1;31m---------------------------------------------------------------------------\u001b[0m",
      "\u001b[1;31mIndexError\u001b[0m                                Traceback (most recent call last)",
      "\u001b[1;32m<ipython-input-20-db1e2d08bd1a>\u001b[0m in \u001b[0;36m<module>\u001b[1;34m\u001b[0m\n\u001b[0;32m      1\u001b[0m \u001b[0mlist\u001b[0m\u001b[1;33m=\u001b[0m\u001b[1;33m[\u001b[0m\u001b[1;36m1\u001b[0m\u001b[1;33m,\u001b[0m\u001b[1;36m4\u001b[0m\u001b[1;33m,\u001b[0m\u001b[1;36m2\u001b[0m\u001b[1;33m,\u001b[0m\u001b[1;36m6\u001b[0m\u001b[1;33m,\u001b[0m\u001b[1;36m3\u001b[0m\u001b[1;33m,\u001b[0m\u001b[1;36m5\u001b[0m\u001b[1;33m]\u001b[0m\u001b[1;33m\u001b[0m\u001b[1;33m\u001b[0m\u001b[0m\n\u001b[1;32m----> 2\u001b[1;33m \u001b[0mquicksort\u001b[0m\u001b[1;33m(\u001b[0m\u001b[0mlist\u001b[0m\u001b[1;33m)\u001b[0m\u001b[1;33m\u001b[0m\u001b[1;33m\u001b[0m\u001b[0m\n\u001b[0m",
      "\u001b[1;32m<ipython-input-17-7f9882d46814>\u001b[0m in \u001b[0;36mquicksort\u001b[1;34m(list)\u001b[0m\n\u001b[0;32m     14\u001b[0m             \u001b[1;32melse\u001b[0m\u001b[1;33m:\u001b[0m\u001b[1;33m\u001b[0m\u001b[1;33m\u001b[0m\u001b[0m\n\u001b[0;32m     15\u001b[0m                 \u001b[0mright\u001b[0m\u001b[1;33m.\u001b[0m\u001b[0mappend\u001b[0m\u001b[1;33m(\u001b[0m\u001b[0mi\u001b[0m\u001b[1;33m)\u001b[0m \u001b[1;31m#當元素>基準點，放入基準點右邊，名為right的list\u001b[0m\u001b[1;33m\u001b[0m\u001b[1;33m\u001b[0m\u001b[0m\n\u001b[1;32m---> 16\u001b[1;33m     \u001b[0mleft\u001b[0m\u001b[1;33m=\u001b[0m\u001b[0mquicksort\u001b[0m\u001b[1;33m(\u001b[0m\u001b[0mleft\u001b[0m\u001b[1;33m)\u001b[0m \u001b[1;31m#當left、right中的元素數量>=2，則再跑一次上述的動作\u001b[0m\u001b[1;33m\u001b[0m\u001b[1;33m\u001b[0m\u001b[0m\n\u001b[0m\u001b[0;32m     17\u001b[0m     \u001b[0mright\u001b[0m\u001b[1;33m=\u001b[0m\u001b[0mquicksort\u001b[0m\u001b[1;33m(\u001b[0m\u001b[0mright\u001b[0m\u001b[1;33m)\u001b[0m\u001b[1;33m\u001b[0m\u001b[1;33m\u001b[0m\u001b[0m\n\u001b[0;32m     18\u001b[0m     \u001b[1;32mreturn\u001b[0m \u001b[0mleft\u001b[0m\u001b[1;33m+\u001b[0m\u001b[0mmid\u001b[0m\u001b[1;33m+\u001b[0m\u001b[0mright\u001b[0m\u001b[1;31m#當第一層left、mid、right中的元素都已排列好後，回傳三個list中的值\u001b[0m\u001b[1;33m\u001b[0m\u001b[1;33m\u001b[0m\u001b[0m\n",
      "\u001b[1;32m<ipython-input-17-7f9882d46814>\u001b[0m in \u001b[0;36mquicksort\u001b[1;34m(list)\u001b[0m\n\u001b[0;32m     14\u001b[0m             \u001b[1;32melse\u001b[0m\u001b[1;33m:\u001b[0m\u001b[1;33m\u001b[0m\u001b[1;33m\u001b[0m\u001b[0m\n\u001b[0;32m     15\u001b[0m                 \u001b[0mright\u001b[0m\u001b[1;33m.\u001b[0m\u001b[0mappend\u001b[0m\u001b[1;33m(\u001b[0m\u001b[0mi\u001b[0m\u001b[1;33m)\u001b[0m \u001b[1;31m#當元素>基準點，放入基準點右邊，名為right的list\u001b[0m\u001b[1;33m\u001b[0m\u001b[1;33m\u001b[0m\u001b[0m\n\u001b[1;32m---> 16\u001b[1;33m     \u001b[0mleft\u001b[0m\u001b[1;33m=\u001b[0m\u001b[0mquicksort\u001b[0m\u001b[1;33m(\u001b[0m\u001b[0mleft\u001b[0m\u001b[1;33m)\u001b[0m \u001b[1;31m#當left、right中的元素數量>=2，則再跑一次上述的動作\u001b[0m\u001b[1;33m\u001b[0m\u001b[1;33m\u001b[0m\u001b[0m\n\u001b[0m\u001b[0;32m     17\u001b[0m     \u001b[0mright\u001b[0m\u001b[1;33m=\u001b[0m\u001b[0mquicksort\u001b[0m\u001b[1;33m(\u001b[0m\u001b[0mright\u001b[0m\u001b[1;33m)\u001b[0m\u001b[1;33m\u001b[0m\u001b[1;33m\u001b[0m\u001b[0m\n\u001b[0;32m     18\u001b[0m     \u001b[1;32mreturn\u001b[0m \u001b[0mleft\u001b[0m\u001b[1;33m+\u001b[0m\u001b[0mmid\u001b[0m\u001b[1;33m+\u001b[0m\u001b[0mright\u001b[0m\u001b[1;31m#當第一層left、mid、right中的元素都已排列好後，回傳三個list中的值\u001b[0m\u001b[1;33m\u001b[0m\u001b[1;33m\u001b[0m\u001b[0m\n",
      "\u001b[1;32m<ipython-input-17-7f9882d46814>\u001b[0m in \u001b[0;36mquicksort\u001b[1;34m(list)\u001b[0m\n\u001b[0;32m     15\u001b[0m                 \u001b[0mright\u001b[0m\u001b[1;33m.\u001b[0m\u001b[0mappend\u001b[0m\u001b[1;33m(\u001b[0m\u001b[0mi\u001b[0m\u001b[1;33m)\u001b[0m \u001b[1;31m#當元素>基準點，放入基準點右邊，名為right的list\u001b[0m\u001b[1;33m\u001b[0m\u001b[1;33m\u001b[0m\u001b[0m\n\u001b[0;32m     16\u001b[0m     \u001b[0mleft\u001b[0m\u001b[1;33m=\u001b[0m\u001b[0mquicksort\u001b[0m\u001b[1;33m(\u001b[0m\u001b[0mleft\u001b[0m\u001b[1;33m)\u001b[0m \u001b[1;31m#當left、right中的元素數量>=2，則再跑一次上述的動作\u001b[0m\u001b[1;33m\u001b[0m\u001b[1;33m\u001b[0m\u001b[0m\n\u001b[1;32m---> 17\u001b[1;33m     \u001b[0mright\u001b[0m\u001b[1;33m=\u001b[0m\u001b[0mquicksort\u001b[0m\u001b[1;33m(\u001b[0m\u001b[0mright\u001b[0m\u001b[1;33m)\u001b[0m\u001b[1;33m\u001b[0m\u001b[1;33m\u001b[0m\u001b[0m\n\u001b[0m\u001b[0;32m     18\u001b[0m     \u001b[1;32mreturn\u001b[0m \u001b[0mleft\u001b[0m\u001b[1;33m+\u001b[0m\u001b[0mmid\u001b[0m\u001b[1;33m+\u001b[0m\u001b[0mright\u001b[0m\u001b[1;31m#當第一層left、mid、right中的元素都已排列好後，回傳三個list中的值\u001b[0m\u001b[1;33m\u001b[0m\u001b[1;33m\u001b[0m\u001b[0m\n",
      "\u001b[1;32m<ipython-input-17-7f9882d46814>\u001b[0m in \u001b[0;36mquicksort\u001b[1;34m(list)\u001b[0m\n\u001b[0;32m      3\u001b[0m     \u001b[0mright\u001b[0m\u001b[1;33m=\u001b[0m\u001b[1;33m[\u001b[0m\u001b[1;33m]\u001b[0m\u001b[1;33m\u001b[0m\u001b[1;33m\u001b[0m\u001b[0m\n\u001b[0;32m      4\u001b[0m     \u001b[0mmid\u001b[0m\u001b[1;33m=\u001b[0m\u001b[1;33m[\u001b[0m\u001b[1;33m]\u001b[0m \u001b[1;31m#建立三個空的list，用來放置比較完的元素\u001b[0m\u001b[1;33m\u001b[0m\u001b[1;33m\u001b[0m\u001b[0m\n\u001b[1;32m----> 5\u001b[1;33m     \u001b[0mpivot\u001b[0m\u001b[1;33m=\u001b[0m\u001b[0mlist\u001b[0m\u001b[1;33m[\u001b[0m\u001b[1;33m-\u001b[0m\u001b[1;36m1\u001b[0m\u001b[1;33m]\u001b[0m\u001b[1;33m\u001b[0m\u001b[1;33m\u001b[0m\u001b[0m\n\u001b[0m\u001b[0;32m      6\u001b[0m     \u001b[1;32mif\u001b[0m \u001b[0mlen\u001b[0m\u001b[1;33m(\u001b[0m\u001b[0mlist\u001b[0m\u001b[1;33m)\u001b[0m\u001b[1;33m<=\u001b[0m\u001b[1;36m1\u001b[0m\u001b[1;33m:\u001b[0m\u001b[1;33m\u001b[0m\u001b[1;33m\u001b[0m\u001b[0m\n\u001b[0;32m      7\u001b[0m         \u001b[1;32mreturn\u001b[0m \u001b[0mlist\u001b[0m \u001b[1;31m#當list裡的元素數量<=1，直接回傳list，不須再進行大小比較\u001b[0m\u001b[1;33m\u001b[0m\u001b[1;33m\u001b[0m\u001b[0m\n",
      "\u001b[1;31mIndexError\u001b[0m: list index out of range"
     ]
    }
   ],
   "source": [
    "list=[1,4,2,6,3,5]\n",
    "quicksort(list)"
   ]
  },
  {
   "cell_type": "markdown",
   "metadata": {},
   "source": [
    "這裡出現了IndexError: list index out of range\n",
    "\n",
    "根據上面指的----> 5     pivot=list[-1]\n",
    "\n",
    "我猜錯誤應該是list中沒辦法取出-1這個位置的值，\n",
    "\n",
    "因此我做了以下的測試"
   ]
  },
  {
   "cell_type": "code",
   "execution_count": 25,
   "metadata": {},
   "outputs": [
    {
     "name": "stdout",
     "output_type": "stream",
     "text": [
      "1\n"
     ]
    },
    {
     "ename": "IndexError",
     "evalue": "list index out of range",
     "output_type": "error",
     "traceback": [
      "\u001b[1;31m---------------------------------------------------------------------------\u001b[0m",
      "\u001b[1;31mIndexError\u001b[0m                                Traceback (most recent call last)",
      "\u001b[1;32m<ipython-input-25-b07dde651c34>\u001b[0m in \u001b[0;36m<module>\u001b[1;34m\u001b[0m\n\u001b[0;32m      3\u001b[0m \u001b[1;33m\u001b[0m\u001b[0m\n\u001b[0;32m      4\u001b[0m \u001b[0ma\u001b[0m\u001b[1;33m=\u001b[0m\u001b[1;33m[\u001b[0m\u001b[1;33m]\u001b[0m\u001b[1;33m\u001b[0m\u001b[1;33m\u001b[0m\u001b[0m\n\u001b[1;32m----> 5\u001b[1;33m \u001b[0mprint\u001b[0m\u001b[1;33m(\u001b[0m\u001b[0ma\u001b[0m\u001b[1;33m[\u001b[0m\u001b[1;33m-\u001b[0m\u001b[1;36m1\u001b[0m\u001b[1;33m]\u001b[0m\u001b[1;33m)\u001b[0m\u001b[1;33m\u001b[0m\u001b[1;33m\u001b[0m\u001b[0m\n\u001b[0m",
      "\u001b[1;31mIndexError\u001b[0m: list index out of range"
     ]
    }
   ],
   "source": [
    "b=[1]\n",
    "print(b[-1])\n",
    "\n",
    "a=[]\n",
    "print(a[-1])"
   ]
  },
  {
   "cell_type": "markdown",
   "metadata": {},
   "source": [
    "我找到了，\n",
    "當list中的element數量<1時，\n",
    "list[-1]會出現錯誤，\n",
    "因此我把pivot=list[-1]這句移到了else那邊，\n",
    "這樣就不會出現len(list)<1的狀況產生"
   ]
  },
  {
   "cell_type": "code",
   "execution_count": 29,
   "metadata": {},
   "outputs": [],
   "source": [
    "def quicksort(list):\n",
    "    left=[] \n",
    "    right=[]\n",
    "    mid=[]\n",
    "    \n",
    "    if len(list)<=1:\n",
    "        return list\n",
    "    else:\n",
    "        pivot=list[-1]\n",
    "        for i in list:\n",
    "            if i < pivot:\n",
    "                left.append(i)\n",
    "            elif i==pivot:\n",
    "                mid.append(i) \n",
    "            else:\n",
    "                right.append(i) \n",
    "    left=quicksort(left)\n",
    "    right=quicksort(right)\n",
    "    return left+mid+right"
   ]
  },
  {
   "cell_type": "code",
   "execution_count": 30,
   "metadata": {},
   "outputs": [
    {
     "data": {
      "text/plain": [
       "[1, 2, 3, 4, 5, 6]"
      ]
     },
     "execution_count": 30,
     "metadata": {},
     "output_type": "execute_result"
    }
   ],
   "source": [
    "list=[1,4,2,6,3,5]\n",
    "quicksort(list)"
   ]
  },
  {
   "cell_type": "markdown",
   "metadata": {},
   "source": [
    "以下打上我的註解，\n",
    "並丟了一組新的測試值測試"
   ]
  },
  {
   "cell_type": "code",
   "execution_count": 31,
   "metadata": {},
   "outputs": [],
   "source": [
    "def quicksort(list):\n",
    "    left=[] \n",
    "    right=[]\n",
    "    mid=[] #建立三個空的list，用來放置比較完的元素\n",
    "    \n",
    "    if len(list)<=1:\n",
    "        return list #當list裡的元素數量<=1，直接回傳list，不須再進行大小比較\n",
    "    else:\n",
    "        pivot=list[-1] #以list中最右邊的數當作比較的基準點\n",
    "        for i in list:\n",
    "            if i < pivot:\n",
    "                left.append(i) #當元素<基準點，放入基準點左邊，名為left的list\n",
    "            elif i==pivot:\n",
    "                mid.append(i) #當元素=基準點，此元素及為基準點，放入名為mid的list\n",
    "            else:\n",
    "                right.append(i) #當元素>基準點，放入基準點右邊，名為right的list\n",
    "    left=quicksort(left) #當left、right中的元素數量>=2，則再跑一次上述的動作\n",
    "    right=quicksort(right)\n",
    "    return left+mid+right#當第一層left、mid、right中的元素都已排列好後，回傳三個list中的值"
   ]
  },
  {
   "cell_type": "code",
   "execution_count": 32,
   "metadata": {},
   "outputs": [
    {
     "data": {
      "text/plain": [
       "[0, 0, 1, 1, 1, 2, 2, 3, 3, 3, 3, 3, 4, 4, 5, 5, 5, 6, 7, 7, 7]"
      ]
     },
     "execution_count": 32,
     "metadata": {},
     "output_type": "execute_result"
    }
   ],
   "source": [
    "Q=[2,5,3,1,4,2,7,5,3,1,3,6,7,0,0,4,1,3,7,3,5]\n",
    "quicksort(Q)"
   ]
  },
  {
   "cell_type": "markdown",
   "metadata": {},
   "source": [
    "### 附上時間複雜度\n",
    "\n",
    "quicksort時間複雜度:\n",
    "\n",
    "Average Time:O(n log n )\n",
    "\n",
    "Best Time:O(n log n )\n",
    "\n",
    "Worst Time:O(n^2)"
   ]
  },
  {
   "cell_type": "markdown",
   "metadata": {},
   "source": [
    "### 最後附上HW1我自己的心得與一些感想:\n",
    "\n",
    "關於這份作業，雖然老師說這份作業比較簡單，\n",
    "\n",
    "但對我而言似乎不是那麼輕鬆，\n",
    "\n",
    "從一開始理解quicksort、按照自己想法一步一步打出來、遇到錯誤往前更正、不會的就上網查資料\n",
    "\n",
    "這種種過程都花了很多的時間與很大的精力\n",
    "\n",
    "或許是我的程式基礎不好導致，\n",
    "\n",
    "但至少我完成了，在最後成功跑出結果並獲得了一些成就感\n",
    "\n",
    "這堂課是算是第一次自己完全打出一段程式碼，\n",
    "\n",
    "我覺得如果班上同學沒有去外面上課應該也是第一次，\n",
    "\n",
    "**在大一大二的程式設計課、其他課程中，\n",
    "老師大部分告訴我們的是，巨資比較不像資工系，\n",
    "比起寫程式，我們比較需要的是運用別人研發的程式，\n",
    "因此我覺得這堂課程內容與模式對於大部分的同學是困難、陌生的。**\n",
    "\n",
    "就如蔡老師在上課告訴我們的:\n",
    "「一開始寫程式大部分是模仿別人的程式，並以自己的角度理解，把那段程式真正變成自己的程式，」\n",
    "\n",
    "在繳交作業以前，老師也是告訴我們作業重要的部分是對程式的理解與自己的看法，\n",
    "\n",
    "加上大家對這樣的課程內容不熟悉，\n",
    "\n",
    "因此普遍同學都認為程式的註解、架構、流程圖，是否真的理解會是作業的重點，\n",
    "\n",
    "但最後評分卻為這樣，很多人一定無法接受，\n",
    "\n",
    "當然以老師、助教專業的角度來看，我們的程式碼跟網路上的程式碼幾乎一樣，\n",
    "\n",
    "但我覺得並不是所有同學相似就都是去抄襲的，\n",
    "\n",
    "其中有的同學是真的一步一步邊學習邊寫出來的，\n",
    "\n",
    "只是在一開始並沒有說明要貼上參考的網站的網址，\n",
    "\n",
    "因此看到自己被評為抄襲時感到不解。"
   ]
  }
 ],
 "metadata": {
  "kernelspec": {
   "display_name": "Python 3",
   "language": "python",
   "name": "python3"
  },
  "language_info": {
   "codemirror_mode": {
    "name": "ipython",
    "version": 3
   },
   "file_extension": ".py",
   "mimetype": "text/x-python",
   "name": "python",
   "nbconvert_exporter": "python",
   "pygments_lexer": "ipython3",
   "version": "3.7.1"
  }
 },
 "nbformat": 4,
 "nbformat_minor": 2
}
