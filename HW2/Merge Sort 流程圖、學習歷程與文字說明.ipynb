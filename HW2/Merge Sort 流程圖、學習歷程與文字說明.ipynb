{
 "cells": [
  {
   "cell_type": "markdown",
   "metadata": {},
   "source": [
    "## 第二次作業\n",
    "\n",
    "在這次作業一開始，我強迫自己完全自己思考，只要一有問題我就去看一次老師上課撥的影片\n",
    "\n",
    "每看完一次就在紙上寫出自己的想法，只要一停頓就回去再看一次小綠人影片\n",
    "\n",
    "光是寫Merge Sort，大概那個影片就看了20次以上\n",
    "\n",
    "影片網址:https://www.youtube.com/watch?v=es2T6KY45cA\n",
    "\n",
    "以下開始我的學習歷程"
   ]
  },
  {
   "cell_type": "markdown",
   "metadata": {},
   "source": [
    "### 整體想法\n",
    "\n",
    "一開始，根據影片內容，我認為在Merge Sort中，要先把整個list從中間分兩堆，直到每一堆裡都只有一個數(如圖)\n",
    "\n",
    "![merge_sort_green.jpg](/pic/merge_sort_green.jpg)\n",
    "\n",
    "當每一堆都只有一個數之後，兩個兩個互相比較大小，比完大小之後，依照小的在左大的在右的規則\n",
    "\n",
    "將比完大小的數字合併起來，也就是為什麼Merge Sort要叫「Merge」的原因"
   ]
  },
  {
   "cell_type": "markdown",
   "metadata": {},
   "source": [
    "### 第一步:分堆\n",
    "\n",
    "以下是我的分堆過程，在寫程式碼的時候，如果遇到要重複執行的程式碼(Ex:呼叫、迴圈)\n",
    "\n",
    "我習慣先寫出主要的程式碼，確定我第一步沒有做錯之後，再加上迴圈等\n",
    "\n",
    "以防我一開始就出錯但卻找不到錯誤"
   ]
  },
  {
   "cell_type": "code",
   "execution_count": 49,
   "metadata": {},
   "outputs": [],
   "source": [
    "class Solution(object):\n",
    "    def merge_sort(self, nums):\n",
    "        \"\"\"\n",
    "        :type nums: List[int] ex:[3,2,-4,6,4,2,19],[5,1,1,2,0,0]\n",
    "        :rtype: List[int] ex:[-4,2,2,3,4,6,19],[0,0,1,1,2,5]\n",
    "        \"\"\"\n",
    "        left=[]\n",
    "        right=[]\n",
    "        if len(nums)<=1:\n",
    "            return nums\n",
    "        else:\n",
    "            if len(nums)%2 == 0 :\n",
    "                left=nums[0:len(nums/2)]\n",
    "                right=nums[len(nums)/2 : len(nums)]\n",
    "            else :\n",
    "                left=nums[0:(len(nums)+1)/2]\n",
    "                right=nums[(len(nums)+1)/2:len(nums)]\n",
    "            return [left,right]"
   ]
  },
  {
   "cell_type": "code",
   "execution_count": 50,
   "metadata": {},
   "outputs": [
    {
     "ename": "TypeError",
     "evalue": "slice indices must be integers or None or have an __index__ method",
     "output_type": "error",
     "traceback": [
      "\u001b[1;31m---------------------------------------------------------------------------\u001b[0m",
      "\u001b[1;31mTypeError\u001b[0m                                 Traceback (most recent call last)",
      "\u001b[1;32m<ipython-input-50-68a7fb459257>\u001b[0m in \u001b[0;36m<module>\u001b[1;34m\u001b[0m\n\u001b[1;32m----> 1\u001b[1;33m \u001b[0mSolution\u001b[0m\u001b[1;33m(\u001b[0m\u001b[1;33m)\u001b[0m\u001b[1;33m.\u001b[0m\u001b[0mmerge_sort\u001b[0m\u001b[1;33m(\u001b[0m\u001b[1;33m[\u001b[0m\u001b[1;36m3\u001b[0m\u001b[1;33m,\u001b[0m\u001b[1;36m5\u001b[0m\u001b[1;33m,\u001b[0m\u001b[1;36m1\u001b[0m\u001b[1;33m,\u001b[0m\u001b[1;36m2\u001b[0m\u001b[1;33m,\u001b[0m\u001b[1;36m6\u001b[0m\u001b[1;33m]\u001b[0m\u001b[1;33m)\u001b[0m\u001b[1;33m\u001b[0m\u001b[1;33m\u001b[0m\u001b[0m\n\u001b[0m",
      "\u001b[1;32m<ipython-input-49-c438b9c05666>\u001b[0m in \u001b[0;36mmerge_sort\u001b[1;34m(self, nums)\u001b[0m\n\u001b[0;32m     14\u001b[0m                 \u001b[0mright\u001b[0m\u001b[1;33m=\u001b[0m\u001b[0mnums\u001b[0m\u001b[1;33m[\u001b[0m\u001b[0mlen\u001b[0m\u001b[1;33m(\u001b[0m\u001b[0mnums\u001b[0m\u001b[1;33m)\u001b[0m\u001b[1;33m/\u001b[0m\u001b[1;36m2\u001b[0m \u001b[1;33m:\u001b[0m \u001b[0mlen\u001b[0m\u001b[1;33m(\u001b[0m\u001b[0mnums\u001b[0m\u001b[1;33m)\u001b[0m\u001b[1;33m]\u001b[0m\u001b[1;33m\u001b[0m\u001b[1;33m\u001b[0m\u001b[0m\n\u001b[0;32m     15\u001b[0m             \u001b[1;32melse\u001b[0m \u001b[1;33m:\u001b[0m\u001b[1;33m\u001b[0m\u001b[1;33m\u001b[0m\u001b[0m\n\u001b[1;32m---> 16\u001b[1;33m                 \u001b[0mleft\u001b[0m\u001b[1;33m=\u001b[0m\u001b[0mnums\u001b[0m\u001b[1;33m[\u001b[0m\u001b[1;36m0\u001b[0m\u001b[1;33m:\u001b[0m\u001b[1;33m(\u001b[0m\u001b[0mlen\u001b[0m\u001b[1;33m(\u001b[0m\u001b[0mnums\u001b[0m\u001b[1;33m)\u001b[0m\u001b[1;33m+\u001b[0m\u001b[1;36m1\u001b[0m\u001b[1;33m)\u001b[0m\u001b[1;33m/\u001b[0m\u001b[1;36m2\u001b[0m\u001b[1;33m]\u001b[0m\u001b[1;33m\u001b[0m\u001b[1;33m\u001b[0m\u001b[0m\n\u001b[0m\u001b[0;32m     17\u001b[0m                 \u001b[0mright\u001b[0m\u001b[1;33m=\u001b[0m\u001b[0mnums\u001b[0m\u001b[1;33m[\u001b[0m\u001b[1;33m(\u001b[0m\u001b[0mlen\u001b[0m\u001b[1;33m(\u001b[0m\u001b[0mnums\u001b[0m\u001b[1;33m)\u001b[0m\u001b[1;33m+\u001b[0m\u001b[1;36m1\u001b[0m\u001b[1;33m)\u001b[0m\u001b[1;33m/\u001b[0m\u001b[1;36m2\u001b[0m\u001b[1;33m:\u001b[0m\u001b[0mlen\u001b[0m\u001b[1;33m(\u001b[0m\u001b[0mnums\u001b[0m\u001b[1;33m)\u001b[0m\u001b[1;33m]\u001b[0m\u001b[1;33m\u001b[0m\u001b[1;33m\u001b[0m\u001b[0m\n\u001b[0;32m     18\u001b[0m             \u001b[1;32mreturn\u001b[0m \u001b[1;33m[\u001b[0m\u001b[0mleft\u001b[0m\u001b[1;33m,\u001b[0m\u001b[0mright\u001b[0m\u001b[1;33m]\u001b[0m\u001b[1;33m\u001b[0m\u001b[1;33m\u001b[0m\u001b[0m\n",
      "\u001b[1;31mTypeError\u001b[0m: slice indices must be integers or None or have an __index__ method"
     ]
    }
   ],
   "source": [
    "Solution().merge_sort([3,5,1,2,6])"
   ]
  },
  {
   "cell_type": "markdown",
   "metadata": {},
   "source": [
    "### 邏輯1\n",
    "\n",
    "只要是分堆問題，第一步我會先建兩個空的list，分別叫left、right\n",
    "\n",
    "丟入我分完堆的東西\n",
    "\n",
    "因為我一開始設定，分堆直到每一堆裡都只剩一個數\n",
    "\n",
    "因此這裡我先設了如果nums的長度<=1就停止，直接回傳nums\n",
    "\n",
    "而如果len(nums)>=2，我預設了兩種情況\n",
    "\n",
    "1. 假設nums裡面是偶數個element，那麼在分兩堆後，左右的個數會一樣\n",
    "   \n",
    "   所以left應該是nums[0]到nums[(len(nums)/2)]，right是nums[len(nums)/2]到nums[len(nums)]\n",
    "    \n",
    "2. 假設nums裡面是奇數個element，那麼我分兩堆後，左邊會比右邊多一個\n",
    "\n",
    "   (ex: len(nums)=7 → len(left)=4 、 len(right)=3 )\n",
    "   \n",
    "   所以left應該是nums[0]到nums[(len(nums)+1)/2]，right是nums[(len(nums)+1)/2]到nums[len(nums)]\n",
    "\n",
    "結果符合我所預期的，分堆的程式碼就處理好了，只需補上重複執行的部分"
   ]
  },
  {
   "cell_type": "markdown",
   "metadata": {},
   "source": [
    "# 注意!\n",
    "\n",
    "這是我當時卡很久的部分\n",
    "\n",
    "當時我可以把list一直分堆到每堆都只有一個數後，我想到了一個問題\n",
    "\n",
    "我要如何把這些一個一個的數在比大小之後，再一個一個併回來\n",
    "\n",
    "此時，我回去看了HW1:Quick Sort\n",
    "\n",
    "因為我知道在Quick Sort中，\n",
    "\n",
    "我把list拆成left、mid、right\n",
    "\n",
    "再利用Recursive把left、right分別拆成left、mid、right\n",
    "\n",
    "這之中我並沒有做合併的動作，但最後卻組回來了\n",
    "\n",
    "在寫HW1的時候研究了一次recursive，但因為是新接觸的程式，過沒多久就又忘了\n",
    "\n",
    "因此這次也再度研究了一次，釐清自己的觀念\n",
    "\n",
    "在釐清之後，把原本分堆的程式碼套上Recursive"
   ]
  },
  {
   "cell_type": "code",
   "execution_count": 51,
   "metadata": {},
   "outputs": [],
   "source": [
    "class Solution(object):\n",
    "    def merge_sort(self, nums):\n",
    "        \"\"\"\n",
    "        :type nums: List[int] ex:[3,2,-4,6,4,2,19],[5,1,1,2,0,0]\n",
    "        :rtype: List[int] ex:[-4,2,2,3,4,6,19],[0,0,1,1,2,5]\n",
    "        \"\"\"\n",
    "        left=[]\n",
    "        right=[]\n",
    "        if len(nums)<=1:\n",
    "            return nums\n",
    "        else:\n",
    "            if len(nums)%2 == 0 :\n",
    "                left=nums[0:len(nums)/2]\n",
    "                right=nums[len(nums)/2 : len(nums)]\n",
    "            else :\n",
    "                left=nums[0:(len(nums)+1)/2]\n",
    "                right=nums[(len(nums)+1)/2:len(nums)]\n",
    "        left=self.merge_sort(left)\n",
    "        right=self.merge_sort(right)\n",
    "        return [left,right]"
   ]
  },
  {
   "cell_type": "code",
   "execution_count": 52,
   "metadata": {},
   "outputs": [
    {
     "ename": "TypeError",
     "evalue": "slice indices must be integers or None or have an __index__ method",
     "output_type": "error",
     "traceback": [
      "\u001b[1;31m---------------------------------------------------------------------------\u001b[0m",
      "\u001b[1;31mTypeError\u001b[0m                                 Traceback (most recent call last)",
      "\u001b[1;32m<ipython-input-52-68a7fb459257>\u001b[0m in \u001b[0;36m<module>\u001b[1;34m\u001b[0m\n\u001b[1;32m----> 1\u001b[1;33m \u001b[0mSolution\u001b[0m\u001b[1;33m(\u001b[0m\u001b[1;33m)\u001b[0m\u001b[1;33m.\u001b[0m\u001b[0mmerge_sort\u001b[0m\u001b[1;33m(\u001b[0m\u001b[1;33m[\u001b[0m\u001b[1;36m3\u001b[0m\u001b[1;33m,\u001b[0m\u001b[1;36m5\u001b[0m\u001b[1;33m,\u001b[0m\u001b[1;36m1\u001b[0m\u001b[1;33m,\u001b[0m\u001b[1;36m2\u001b[0m\u001b[1;33m,\u001b[0m\u001b[1;36m6\u001b[0m\u001b[1;33m]\u001b[0m\u001b[1;33m)\u001b[0m\u001b[1;33m\u001b[0m\u001b[1;33m\u001b[0m\u001b[0m\n\u001b[0m",
      "\u001b[1;32m<ipython-input-51-310dc6774cd8>\u001b[0m in \u001b[0;36mmerge_sort\u001b[1;34m(self, nums)\u001b[0m\n\u001b[0;32m     14\u001b[0m                 \u001b[0mright\u001b[0m\u001b[1;33m=\u001b[0m\u001b[0mnums\u001b[0m\u001b[1;33m[\u001b[0m\u001b[0mlen\u001b[0m\u001b[1;33m(\u001b[0m\u001b[0mnums\u001b[0m\u001b[1;33m)\u001b[0m\u001b[1;33m/\u001b[0m\u001b[1;36m2\u001b[0m \u001b[1;33m:\u001b[0m \u001b[0mlen\u001b[0m\u001b[1;33m(\u001b[0m\u001b[0mnums\u001b[0m\u001b[1;33m)\u001b[0m\u001b[1;33m]\u001b[0m\u001b[1;33m\u001b[0m\u001b[1;33m\u001b[0m\u001b[0m\n\u001b[0;32m     15\u001b[0m             \u001b[1;32melse\u001b[0m \u001b[1;33m:\u001b[0m\u001b[1;33m\u001b[0m\u001b[1;33m\u001b[0m\u001b[0m\n\u001b[1;32m---> 16\u001b[1;33m                 \u001b[0mleft\u001b[0m\u001b[1;33m=\u001b[0m\u001b[0mnums\u001b[0m\u001b[1;33m[\u001b[0m\u001b[1;36m0\u001b[0m\u001b[1;33m:\u001b[0m\u001b[1;33m(\u001b[0m\u001b[0mlen\u001b[0m\u001b[1;33m(\u001b[0m\u001b[0mnums\u001b[0m\u001b[1;33m)\u001b[0m\u001b[1;33m+\u001b[0m\u001b[1;36m1\u001b[0m\u001b[1;33m)\u001b[0m\u001b[1;33m/\u001b[0m\u001b[1;36m2\u001b[0m\u001b[1;33m]\u001b[0m\u001b[1;33m\u001b[0m\u001b[1;33m\u001b[0m\u001b[0m\n\u001b[0m\u001b[0;32m     17\u001b[0m                 \u001b[0mright\u001b[0m\u001b[1;33m=\u001b[0m\u001b[0mnums\u001b[0m\u001b[1;33m[\u001b[0m\u001b[1;33m(\u001b[0m\u001b[0mlen\u001b[0m\u001b[1;33m(\u001b[0m\u001b[0mnums\u001b[0m\u001b[1;33m)\u001b[0m\u001b[1;33m+\u001b[0m\u001b[1;36m1\u001b[0m\u001b[1;33m)\u001b[0m\u001b[1;33m/\u001b[0m\u001b[1;36m2\u001b[0m\u001b[1;33m:\u001b[0m\u001b[0mlen\u001b[0m\u001b[1;33m(\u001b[0m\u001b[0mnums\u001b[0m\u001b[1;33m)\u001b[0m\u001b[1;33m]\u001b[0m\u001b[1;33m\u001b[0m\u001b[1;33m\u001b[0m\u001b[0m\n\u001b[0;32m     18\u001b[0m         \u001b[0mleft\u001b[0m\u001b[1;33m=\u001b[0m\u001b[0mself\u001b[0m\u001b[1;33m.\u001b[0m\u001b[0mmerge_sort\u001b[0m\u001b[1;33m(\u001b[0m\u001b[0mleft\u001b[0m\u001b[1;33m)\u001b[0m\u001b[1;33m\u001b[0m\u001b[1;33m\u001b[0m\u001b[0m\n",
      "\u001b[1;31mTypeError\u001b[0m: slice indices must be integers or None or have an __index__ method"
     ]
    }
   ],
   "source": [
    "Solution().merge_sort([3,5,1,2,6])"
   ]
  },
  {
   "cell_type": "markdown",
   "metadata": {},
   "source": [
    "這裡出現了TypeErrow\n",
    "\n",
    "根據內容我猜應該是要轉成整數型態才能做處理\n",
    "\n",
    "因此我在要運算的地方補上了int()\n"
   ]
  },
  {
   "cell_type": "code",
   "execution_count": 61,
   "metadata": {},
   "outputs": [],
   "source": [
    "class Solution(object):\n",
    "    def merge_sort(self, nums):\n",
    "        \"\"\"\n",
    "        :type nums: List[int] ex:[3,2,-4,6,4,2,19],[5,1,1,2,0,0]\n",
    "        :rtype: List[int] ex:[-4,2,2,3,4,6,19],[0,0,1,1,2,5]\n",
    "        \"\"\"\n",
    "        left=[]\n",
    "        right=[]\n",
    "        if len(nums)<=1:\n",
    "            return nums\n",
    "        else:\n",
    "            if len(nums)%2 == 0 :\n",
    "                left=nums[0:int(len(nums)/2)]\n",
    "                right=nums[int(len(nums)/2) : len(nums)]\n",
    "            else :\n",
    "                left=nums[0:int((len(nums)+1)/2)]\n",
    "                right=nums[int((len(nums)+1)/2):len(nums)]\n",
    "        left=self.merge_sort(left)\n",
    "        right=self.merge_sort(right)\n",
    "        return [left,right]"
   ]
  },
  {
   "cell_type": "code",
   "execution_count": 64,
   "metadata": {},
   "outputs": [
    {
     "data": {
      "text/plain": [
       "[[[[3], [5]], [1]], [[2], [6]]]"
      ]
     },
     "execution_count": 64,
     "metadata": {},
     "output_type": "execute_result"
    }
   ],
   "source": [
    "Solution().merge_sort([3,5,1,2,6])"
   ]
  },
  {
   "cell_type": "markdown",
   "metadata": {},
   "source": [
    "### 正確\n",
    "\n",
    "接下來只要補上比較大小的部分就好"
   ]
  },
  {
   "cell_type": "markdown",
   "metadata": {},
   "source": [
    "### 邏輯2\n",
    "\n",
    "在比較大小的部分，Quick Sort是兩邊比較，\n",
    "\n",
    "當left[i]比right[j]小的話，就把left[i]取出，\n",
    "\n",
    "並且讓left[i+1]和right[j]繼續比較\n",
    "\n",
    "因此我的想法是這樣:\n",
    "\n",
    "相比完比較小的數我append到一個新的list，\n",
    "\n",
    "並且讓取出的那邊(ex:上述的left) → i+=1\n",
    "\n",
    "而我設了幾種狀況:\n",
    "\n",
    "首先，要停止比大小的狀況一定是當left跟right都比完大小並且丟入新的list中(我設為ans)\n",
    "\n",
    "因此在全部狀況發生前，len(ans) 一定小於 len(left+right)\n",
    "\n",
    "而接下來是在比大小的時候會發生的狀況\n",
    "\n",
    "1. 當left[i] > right[j] :\n",
    "    ans要寫入 right[j] ， 而且要j++\n",
    "\n",
    "2. 當left[i] = right[j] :\n",
    "    我選擇把right[j]丟入ans，並且j++\n",
    "\n",
    "3. 當left[i] < right[j] :\n",
    "    ans要寫入 left[i] ， 而且要i++\n",
    "\n",
    "### 注意\n",
    "接下來兩個狀況比較特殊\n",
    "\n",
    "4. 當left中的element已經全部丟入ans而right的還沒全部丟入時:\n",
    "    ans要加入right剩下的element\n",
    "    \n",
    "5. 當right中的element已經全部丟入ans而left的還沒全部丟入時:\n",
    "    ans要加入left剩下的element\n",
    "\n",
    "如下"
   ]
  },
  {
   "cell_type": "code",
   "execution_count": 55,
   "metadata": {},
   "outputs": [],
   "source": [
    "ans=[]\n",
    "left=[1,3,5]\n",
    "right=[2,6]\n",
    "i=0\n",
    "j=0\n",
    "while len(ans)!= len(left+right):\n",
    "    if left[i]>right[j]:\n",
    "        ans.append(right[j])\n",
    "        j+=1\n",
    "    elif left[i]==right[j]:\n",
    "        ans.append(right[j])\n",
    "        j+=1\n",
    "    elif left[i]<right[j]:\n",
    "        ans.append(left[i])\n",
    "        i+=1\n",
    "    while i==len(left) and j != len(right):\n",
    "        ans.append(right[j])\n",
    "        j+=1\n",
    "    while j==len(right) and i != len(left):\n",
    "        ans.append(left[i])\n",
    "        i+=1"
   ]
  },
  {
   "cell_type": "code",
   "execution_count": 56,
   "metadata": {},
   "outputs": [
    {
     "name": "stdout",
     "output_type": "stream",
     "text": [
      "[1, 2, 3, 5, 6]\n"
     ]
    }
   ],
   "source": [
    "print(ans)"
   ]
  },
  {
   "cell_type": "markdown",
   "metadata": {},
   "source": [
    "這裡在丟測試值的時候要注意，因為是先分到每堆都剩一個再往回開始比大小\n",
    "\n",
    "**所以left、right中的值應該是已經排好的list**"
   ]
  },
  {
   "cell_type": "markdown",
   "metadata": {},
   "source": [
    "### 最後階段:合併\n",
    "並補上程式碼的註解"
   ]
  },
  {
   "cell_type": "code",
   "execution_count": 66,
   "metadata": {},
   "outputs": [],
   "source": [
    "###### merge_sort_ID.py\n",
    "\n",
    "class Solution(object):\n",
    "    def merge_sort(self, nums):\n",
    "        \"\"\"\n",
    "        :type nums: List[int] ex:[3,2,-4,6,4,2,19],[5,1,1,2,0,0]\n",
    "        :rtype: List[int] ex:[-4,2,2,3,4,6,19],[0,0,1,1,2,5]\n",
    "        \"\"\"\n",
    "        #設定參數與分堆後的list(left、right)\n",
    "        i=0 \n",
    "        j=0\n",
    "        left=[]\n",
    "        right=[]\n",
    "        ans=[]\n",
    "            \n",
    "        #以下是分堆過程\n",
    "            \n",
    "        if len(nums)<=1:   #當nums中的element數量<=1時直接回傳nums\n",
    "            return nums     \n",
    "        else:              #當nums中的element數量>=2時要再繼續分堆，直到每堆中只剩一個element\n",
    "            \n",
    "            if len(nums)%2 == 0 :              #當len(nums)為偶數的情況下\n",
    "                left=nums[0:int(len(nums)/2)]\n",
    "                right=nums[int(len(nums)/2) : len(nums)]\n",
    "            \n",
    "            else :                             #當len(nums)為奇數的情況下\n",
    "                left=nums[0:(len(nums)+1)//2]\n",
    "                right=nums[(len(nums)+1)//2:len(nums)]\n",
    "        \n",
    "        left=self.merge_sort(left) #利用Recursive重複分堆\n",
    "        right=self.merge_sort(right)\n",
    "        \n",
    "        while len(ans)!= len(left+right):  #比較大小\n",
    "            \n",
    "            if left[i]>right[j]:        #left[i]比right[j]大時\n",
    "                ans.append(right[j])\n",
    "                j+=1\n",
    "            elif left[i]==right[j]:     #left[i]=right[j]時\n",
    "                ans.append(right[j])\n",
    "                j+=1\n",
    "            elif left[i]<right[j]:      #left[i]比right[j]小時\n",
    "                ans.append(left[i])\n",
    "                i+=1\n",
    "            while i==len(left) and j != len(right): #當left已經全部丟入ans中但right中還有element沒有丟入ans時\n",
    "                ans.append(right[j])\n",
    "                j+=1\n",
    "            while j==len(right) and i != len(left): #當right已經全部丟入ans中但left中還有element沒有丟入ans\n",
    "                ans.append(left[i])\n",
    "                i+=1\n",
    "        return ans        \n",
    "    "
   ]
  },
  {
   "cell_type": "code",
   "execution_count": 67,
   "metadata": {},
   "outputs": [
    {
     "data": {
      "text/plain": [
       "[1, 2, 3, 5, 6]"
      ]
     },
     "execution_count": 67,
     "metadata": {},
     "output_type": "execute_result"
    }
   ],
   "source": [
    "ans=Solution().merge_sort([3,5,1,2,6])\n",
    "ans"
   ]
  },
  {
   "cell_type": "code",
   "execution_count": 68,
   "metadata": {},
   "outputs": [
    {
     "data": {
      "text/plain": [
       "[-4, 1, 2, 3, 5, 15, 22]"
      ]
     },
     "execution_count": 68,
     "metadata": {},
     "output_type": "execute_result"
    }
   ],
   "source": [
    "ans=Solution().merge_sort([22,1,15,2,-4,5,3])\n",
    "ans"
   ]
  },
  {
   "cell_type": "markdown",
   "metadata": {},
   "source": [
    "### 心得\n",
    "\n",
    "寫出來的時候又有一種成就感了，不過因為我是先寫Merge Sort\n",
    "\n",
    "所以當我再寫Heap Sort的時候才體悟到，看來不用因為寫出Merge Sort就有成就感\n",
    "\n",
    "相較起來，Merge Sort 比 Heap Sort簡單太多了"
   ]
  },
  {
   "cell_type": "markdown",
   "metadata": {},
   "source": [
    "# 我的merge_sort流程圖:\n",
    "![merge_sort](/pic/merge_sort.png)"
   ]
  }
 ],
 "metadata": {
  "kernelspec": {
   "display_name": "Python 3",
   "language": "python",
   "name": "python3"
  },
  "language_info": {
   "codemirror_mode": {
    "name": "ipython",
    "version": 3
   },
   "file_extension": ".py",
   "mimetype": "text/x-python",
   "name": "python",
   "nbconvert_exporter": "python",
   "pygments_lexer": "ipython3",
   "version": "3.7.1"
  }
 },
 "nbformat": 4,
 "nbformat_minor": 2
}
