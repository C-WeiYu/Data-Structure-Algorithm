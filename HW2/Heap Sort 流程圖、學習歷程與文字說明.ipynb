{
 "cells": [
  {
   "cell_type": "markdown",
   "metadata": {},
   "source": [
    "## 第二次作業\n",
    "先寫完Merge Sort之後再處理Heap Sort根本是天壤之別，\n",
    "\n",
    "從天堂到地獄的感覺，\n",
    "\n",
    "我一開始處理Heap Sort的步驟跟處理Merge Sort一樣，\n",
    "\n",
    "我重複看老師上課撥的影片，然後在腦中想像，\n",
    "\n",
    "每當我只要卡住或是覺得哪裡奇怪就重看一次影片。\n",
    "\n",
    "參考影片:https://www.youtube.com/watch?v=H5kAcmGOn4Q\n",
    "\n",
    "寫Merge Sort的時候看了20次以上，\n",
    "\n",
    "寫Heap Sort的時候大概看了50次以上吧，而且還是寫不出來"
   ]
  },
  {
   "cell_type": "markdown",
   "metadata": {},
   "source": [
    "在我真正開始寫Heap Sort的程式碼前，\n",
    "\n",
    "我大概想了又試，試了又刪，刪了又想，持續了數天\n",
    "\n",
    "最後還是想不出來\n",
    "\n",
    "以下是我這過程中嘗試過的想法"
   ]
  },
  {
   "cell_type": "markdown",
   "metadata": {},
   "source": [
    "### 整體想法(錯誤1)"
   ]
  },
  {
   "cell_type": "code",
   "execution_count": 2,
   "metadata": {},
   "outputs": [],
   "source": [
    "class Solution(object):\n",
    "    def heap_sort(self, nums):\n",
    "        \"\"\"\n",
    "        :type nums: List[int] ex:[3,2,-4,6,4,2,19],[5,1,1,2,0,0]\n",
    "        :rtype: List[int] ex:[-4,2,2,3,4,6,19],[0,0,1,1,2,5]\n",
    "        \"\"\"\n",
    "        root=0\n",
    "        for i in range(0,len(nums)):\n",
    "            if 2*i+1 < len(nums):\n",
    "                root=nums[i]\n",
    "                left=nums[2*i+1]\n",
    "                if left < root:\n",
    "                    tem_root=root\n",
    "                    root=left\n",
    "                    left=tem_root\n",
    "                else:\n",
    "                    pass\n",
    "            else:\n",
    "                left=None\n",
    "                \n",
    "            if 2*i+2 < len(nums):\n",
    "                right=nums[2*i+2]\n",
    "                if right<root:\n",
    "                    tem_root=root\n",
    "                    root=right\n",
    "                    right=tem_root\n",
    "                else:\n",
    "                    pass\n",
    "            else:\n",
    "                right=None\n",
    "            print([root,left,right])"
   ]
  },
  {
   "cell_type": "code",
   "execution_count": 3,
   "metadata": {},
   "outputs": [
    {
     "name": "stdout",
     "output_type": "stream",
     "text": [
      "[-1, 6, 2]\n",
      "[1, 6, 3]\n",
      "[1, None, None]\n",
      "[1, None, None]\n",
      "[1, None, None]\n"
     ]
    }
   ],
   "source": [
    "output=Solution().heap_sort([2,6,-1,1,3])"
   ]
  },
  {
   "cell_type": "markdown",
   "metadata": {},
   "source": [
    "在一開始我認為Heap Sort是由很多棵小樹合成的一個大樹\n",
    "\n",
    "因此一開始我去想了小樹形成的樣貌，\n",
    "\n",
    "最一開始的root一定是nums[0]，\n",
    "\n",
    "而這時候我在紙上畫出了tree跟nums要去找關係，\n",
    "\n",
    "想了一陣子之後想不太出去，於是去看了老師給的補充網頁\n",
    "\n",
    "參考網頁:https://algorithm.yuanbin.me/zh-tw/basics_data_structure/heap.html\n",
    "\n",
    "**(但在這裡我強迫自己不看下面的程式碼)\n",
    "\n",
    "看完網站後我發現每一顆小樹的left在nums中的位置是root的2倍+1、right在nums中的位置則是root的2倍+2\n",
    "\n",
    "(ex: root=0 → left = 2root +1 、 right = 2root+2)\n",
    "\n",
    "(而這是在python中，因為python中list的第一個位置 index = 0；如果是在其他語言中，第一個位置是1 → left=2倍root 、 right=2倍root+1)\n",
    "\n",
    "因此我就照著這個邏輯寫了一段程式碼，\n",
    "\n",
    "把nums利用for迴圈，以有left跟right的root寫出來，並跟他的left、right比大小排列(結果如上)\n",
    "\n",
    "(在這裡我有先設如果2i+1 、 2i+2大於len(nums)則=None，因為如果超過nums的長度就不會有數字)\n",
    "\n",
    "在跑出這些結果的時候我很開心，以為開頭已經成功了，\n",
    "\n",
    "但當我想到一個問題的時候，這些成果就被我否定了\n",
    "\n",
    "**我想到:如果我把每一個小的tree都先跑出來且排好了，我應該要怎麼把每一個小tree連起來變成一個大的tree**\n",
    "\n",
    "在這之後我又繼續想了有沒有其他新的方法"
   ]
  },
  {
   "cell_type": "markdown",
   "metadata": {},
   "source": [
    "### 整體想法(錯誤2)\n",
    "\n",
    "在錯誤1之後，我開始想其他方法，怎麼寫成一個完整的tree\n",
    "\n",
    "這時候我想到老師在教Heap Sort那堂課的時候，有教一個leetcode的題目\n",
    "\n",
    "那個題目是要我們寫出一個tree再加一些規則\n",
    "\n",
    "我想說，那麼我把它要的那些規則拿掉，這樣就可以寫成一個完整tree了\n",
    "\n",
    "於是我就回去看了那個leetcode題目\n",
    "\n",
    "這個題目我認為是以當初linked list的方式去寫(如圖)\n",
    "\n",
    "![tree.jpg](/pic/tree.jpg)\n",
    "\n",
    "這是我的leetcode上面打的\n",
    "\n",
    "但透過這個程式碼又跟影片中的概念不同，概念好像又更複雜了\n",
    "\n",
    "所以後來我就放棄這個方法了"
   ]
  },
  {
   "cell_type": "markdown",
   "metadata": {},
   "source": [
    "### 最後想法\n",
    "歷經了前面的種種挫敗後，最後我真的想不出來了\n",
    "\n",
    "原本以為看那個影片之後，可以依照自己的方法打出一個Heap Sort\n",
    "\n",
    "但因為一直無法理解影片中是如何將一個list寫成一個tree的樣子，導致影片中有提的sift-down、heapify那些也不太了解\n",
    "\n",
    "所以最後照著老師上課教的另一個方法，去網路上查了Heap Sort的Psuedocode\n",
    "\n",
    "以下是我參考的Pseudocode網址:\n",
    "\n",
    "1. http://www.notepad.yehyeh.net/Content/Algorithm/Sort/Heap/Heap.php\n",
    "\n",
    "2. https://www.algorithmist.com/index.php/Heap_sort\n",
    "\n",
    "在禮拜二的演習課老師放了一個其他程式語言的Merge Sort讓我們當Pseudocode看，\n",
    "\n",
    "告訴我們說，如果想不到怎麼辦的話，可以去看Pseudocode\n",
    "\n",
    "我先看了第一個網站的，但是覺得好像內容過於偏向程式碼，比較不像Pseudocode，\n",
    "\n",
    "所以之後又去看了第二個網站的\n",
    "\n",
    "不要直接看自己要寫的那個程式語言的程式碼，\n",
    "\n",
    "**以下講解一下我看Pseudocode的過程**\n",
    "\n",
    "當我看Pseudocode的時候，我不會照著他的程式概念一步一步打出自己的程式碼\n",
    "\n",
    "我先看完整個code，了解每一段概念所要達到的目的是什麼\n",
    "\n",
    "等我真正了解整個Heap Sort的組成之後，我再打開自己的jupyter，\n",
    "\n",
    "把每個目的依照自己的想法打上\n",
    "\n",
    "**這裡我印象最深刻的部分是我終於搞懂整個tree是怎麼組成的，**\n",
    "\n",
    "**其實一開始我的想法並沒有錯，先寫出每一個小的tree**\n",
    "\n",
    "**但我並沒有想到可以利用倒著的迴圈去做比較與排列**\n",
    "\n",
    "於是我就靠著Pseudocode理解的想法去寫了自己的程式碼\n",
    "\n",
    "這段程式碼我融合了兩個網頁的概念，創造了自己新的東西，並寫了一些不同的版本\n",
    "\n",
    "以下我會先講解我理解Pseudocode的概念，再開始講解我的程式碼，我會在過程中講解程式碼的概念，也跟影片的內容作搭配"
   ]
  },
  {
   "cell_type": "markdown",
   "metadata": {},
   "source": [
    "以下是上面第二個Pseudocode網址的內容\n",
    "\n",
    "(因為第一個網址的內容為其他語言的內容，因此我先跳過那個網址，先看第二個網址的內容)\n",
    "\n",
    "![heapsort_pseudocode1](/pic/heapsort_pseudocode1.jpg)"
   ]
  },
  {
   "cell_type": "markdown",
   "metadata": {},
   "source": [
    "\n",
    "在heapify的程式是用來讓root跟他的left、right比較大小(index)，\n",
    "\n",
    "如果比原本的root大，就交換位置，\n",
    "\n",
    "在Buildheap的程式是利用迴圈讓整棵大樹可以**從下到上**，依照順序將每隔小樹先比進行heapify的功能，這樣就可以讓整棵樹最上面是nums中的Max(也就是建立Max_heap)\n",
    "\n",
    "**(這個就是在最一開始我沒辦法理解怎麼把好幾個小樹寫成一個完整的大樹的步驟 → 是利用迴圈挑整root的index)**\n",
    "\n",
    "在Heapsort先呼叫了Buildheap建立Max_heap，而Heapsort的下面那組迴圈是用來重複進行:\n",
    "\n",
    "將最大的數移走並把最後面的element補上，並**由上到下**重新進行排列的步驟(後面動作為影片中的sift-down)\n",
    "\n",
    "**對調的後那個原本較小的root繼續和下面的left、right比大小，重複heapify**\n",
    "\n"
   ]
  },
  {
   "cell_type": "markdown",
   "metadata": {},
   "source": [
    "以下是上面第一個Pseudocode網址的內容\n",
    "![pseudocode2-1](/pic/heapsort_pseudocode2-1.jpg)\n",
    "![pseudocode2-2](/pic/heapsort_pseudocode2-2.jpg)"
   ]
  },
  {
   "cell_type": "markdown",
   "metadata": {},
   "source": [
    "一開始的swap是用來在下面比完大小後，調整nums中的位置\n",
    "\n",
    "這裡的heapify跟上面那個網址的功能一樣\n",
    "\n",
    "而這裡的heapsort跟上面的heapsort其實一樣，只是他把Buildheap的部分直接寫入heapsort裡而已"
   ]
  },
  {
   "cell_type": "markdown",
   "metadata": {},
   "source": [
    "### 觀念釐清\n",
    "我認為在我看完Pseudocode之後，除了上面我說的，知道了怎麼寫成一個完整樹的形式以外\n",
    "\n",
    "我認為學到最重要的事就是:\n",
    "\n",
    "**在Heap Sort裡面要設root、left跟right的方式必須用index，如果用nums裡的值是無法去調整位置的**"
   ]
  },
  {
   "cell_type": "markdown",
   "metadata": {},
   "source": [
    "### 我的程式碼\n",
    "接下來就是我用自己的程式去實現想法的部分"
   ]
  },
  {
   "cell_type": "markdown",
   "metadata": {},
   "source": [
    "在heapify這裡我在構想的時候是比較沒有問題的，\n",
    "\n",
    "單純的比大小，\n",
    "\n",
    "比較重要的一點就是上述我釐清的觀念:**在比較大小的時候用index值代表位置，之後再實際交換於nums中的位置**\n",
    "\n",
    "以下我會把heapify拆成兩個部分講解:\n",
    "1. 比大小\n",
    "\n",
    "2. 交換nums中的位置"
   ]
  },
  {
   "cell_type": "markdown",
   "metadata": {},
   "source": [
    "首先是heapify中，root跟left、right比大小的部分"
   ]
  },
  {
   "cell_type": "code",
   "execution_count": null,
   "metadata": {},
   "outputs": [],
   "source": [
    "class Solution(object):\n",
    "    def heapify(self,nums,root,length):\n",
    "        left=2*root+1\n",
    "        right=2*root+2\n",
    "\n",
    "        if left < length and right <length:\n",
    "            if nums[left]>nums[right]:\n",
    "                if nums[left]>nums[root]:\n",
    "                    Max=left\n",
    "                else:\n",
    "                    Max=root\n",
    "            else:\n",
    "                if nums[right]>nums[root]:\n",
    "                    Max=right\n",
    "                else:\n",
    "                    Max=root\n",
    "        elif left<length and right>=length:\n",
    "            if nums[left]>nums[root]:\n",
    "                Max=left\n",
    "            else:\n",
    "                Max=root\n",
    "        else:\n",
    "            Max=root\n"
   ]
  },
  {
   "cell_type": "markdown",
   "metadata": {},
   "source": [
    "一開始在heapify中需要設定nums、root、length\n",
    "\n",
    "在index方面，我設root的左邊叫做left，右邊叫做right\n",
    "\n",
    "而如上面所說的，left=2root+1，right=2root+2\n",
    "\n",
    "接著是要比較大小的程式碼\n",
    "\n",
    "在比較大小前我認為必須先知道這個root是否有對應的left跟right，或是只有left，甚至根本沒有left跟right\n",
    "\n",
    "所以我先設了\n",
    "\n",
    "1. 如果left跟right都存在(也就是都小於len(nusm)):\n",
    "   \n",
    "   (1)在nums[left]>nums[right]的情況下:\n",
    "   \n",
    "   如果nums[left]>nums[root]，那麼就設Max值的index是left；如果nums[root]>nums[left]，那麼Max值的index就是root\n",
    "   \n",
    "   (2)在nums[left]<nums[right]的情況下:\n",
    "   \n",
    "   如果nums[right]>nums[root]，那麼就設Max值的index是right；如果nums[root]>nums[right]，那麼Max值的index就是root\n",
    "   \n",
    "2. 如果只有left存在的情況:\n",
    "\n",
    "   如果nums[left]>nums[root]，那麼就設Max值的index是left；如果nums[root]>nums[left]，那麼Max值的index就是root\n",
    "   \n",
    "3. 如果left、right都不存在的情況下:\n",
    "    \n",
    "    不須比較大小，直接將Max值的index設為root"
   ]
  },
  {
   "cell_type": "markdown",
   "metadata": {},
   "source": [
    "接著是在交換nums中的位置的部分"
   ]
  },
  {
   "cell_type": "code",
   "execution_count": 15,
   "metadata": {},
   "outputs": [],
   "source": [
    "class Solution(object):\n",
    "    def heapify(self,nums,root,length):\n",
    "        left=2*root+1\n",
    "        right=2*root+2\n",
    "\n",
    "        if left < length and right <length:\n",
    "            if nums[left]>nums[right]:\n",
    "                if nums[left]>nums[root]:\n",
    "                    Max=left\n",
    "                else:\n",
    "                    Max=root\n",
    "            else:\n",
    "                if nums[right]>nums[root]:\n",
    "                    Max=right\n",
    "                else:\n",
    "                    Max=root\n",
    "        elif left<length and right>=length:\n",
    "            if nums[left]>nums[root]:\n",
    "                Max=left\n",
    "            else:\n",
    "                Max=root\n",
    "        else:\n",
    "            Max=root\n",
    "        if Max != root :\n",
    "            heapify_temp_root=root\n",
    "            nums[root] =nums[Max]\n",
    "            nums[Max]=nums[heapify_temp_root]\n",
    "            Solution.heapify(self,nums,Max,length)\n",
    "        return nums"
   ]
  },
  {
   "cell_type": "code",
   "execution_count": 20,
   "metadata": {},
   "outputs": [
    {
     "data": {
      "text/plain": [
       "[5, 2, 5, 4, 1]"
      ]
     },
     "execution_count": 20,
     "metadata": {},
     "output_type": "execute_result"
    }
   ],
   "source": [
    "Solution().heapify([3,2,5,4,1],0,5)"
   ]
  },
  {
   "cell_type": "markdown",
   "metadata": {},
   "source": [
    "這是我一開始在寫交換位置的時候的程式碼，我寫交換位置的程式碼是用一開始在寫linked list中交換位置的方法\n",
    "\n",
    "將某個設為temp暫時儲存，再將一個對調，另一個變成temp暫存的位置\n",
    "\n",
    "但是出來的結果出了問題\n",
    "\n",
    "我發現不知道為什麼我原本只輸入一個5，出來卻有兩個5，我猜是因為我在設temp的時候不小心存錯值了\n",
    "\n",
    "後來我發現了 temp 應該是要設定為我root原本暫存的數字而不是index，\n",
    "\n",
    "不然會造成把最後一個值也變成Max值的情況，因此我做了更改"
   ]
  },
  {
   "cell_type": "code",
   "execution_count": 21,
   "metadata": {},
   "outputs": [],
   "source": [
    "class Solution(object):\n",
    "    def heapify(self,nums,root,length):\n",
    "        left=2*root+1\n",
    "        right=2*root+2\n",
    "\n",
    "        if left < length and right <length:\n",
    "            if nums[left]>nums[right]:\n",
    "                if nums[left]>nums[root]:\n",
    "                    Max=left\n",
    "                else:\n",
    "                    Max=root\n",
    "            else:\n",
    "                if nums[right]>nums[root]:\n",
    "                    Max=right\n",
    "                else:\n",
    "                    Max=root\n",
    "        elif left<length and right>=length:\n",
    "            if nums[left]>nums[root]:\n",
    "                Max=left\n",
    "            else:\n",
    "                Max=root\n",
    "        else:\n",
    "            Max=root\n",
    "        if Max != root :\n",
    "            heapify_temp_root=nums[root]\n",
    "            nums[root] =nums[Max]\n",
    "            nums[Max]=heapify_temp_root\n",
    "            Solution.heapify(self,nums,Max,length)\n",
    "        return nums"
   ]
  },
  {
   "cell_type": "code",
   "execution_count": 22,
   "metadata": {},
   "outputs": [
    {
     "data": {
      "text/plain": [
       "[5, 2, 3, 4, 1]"
      ]
     },
     "execution_count": 22,
     "metadata": {},
     "output_type": "execute_result"
    }
   ],
   "source": [
    "Solution().heapify([3,2,5,4,1],0,5)"
   ]
  },
  {
   "cell_type": "markdown",
   "metadata": {},
   "source": [
    "### 注意\n",
    "當我在寫要交換位置的程式碼時，有再回去看影片，發現了一個重點\n",
    "\n",
    "當我Max值不再是原始的root時(也就是某個小樹的排列有更改時)，\n",
    "\n",
    "我必須要重新呼叫heapift，並把root的index設為原本的Max(也就是調整nums位置後，下面那個小樹新的root)"
   ]
  },
  {
   "cell_type": "markdown",
   "metadata": {},
   "source": [
    "## 這樣就寫完heapify的部分了!\n"
   ]
  },
  {
   "cell_type": "markdown",
   "metadata": {},
   "source": [
    "接著要處理heap_sort的部分\n",
    "\n",
    "在heap_sort的部分我是選擇將剩下的程式碼都寫在heap_sort裡面，而沒有先寫成其他def再呼叫"
   ]
  },
  {
   "cell_type": "markdown",
   "metadata": {},
   "source": [
    "**在heap_sort這組程式碼中**\n",
    "\n",
    "我一開始先設n為nums的長度，讓後面迴圈使用\n",
    "\n",
    "這裡我先處理了要讓heap從最下面的小樹到最上面的小樹依序比大小排列的迴圈(變成Max_heap)\n",
    "\n",
    "把root的index跑到最下面的那個小樹的root，然後丟回heapify比較大小與排列\n",
    "\n",
    "接著利用迴圈重複動作到最上面那個小樹也排完為止，這樣nums中最大的數就會在nums[0]的位置\n",
    "\n",
    "因此我開始思考for的range應該怎麼設定"
   ]
  },
  {
   "cell_type": "code",
   "execution_count": 1,
   "metadata": {},
   "outputs": [],
   "source": [
    "class Solution(object):\n",
    "    def heap_sort(self, nums):\n",
    "        \"\"\"\n",
    "        :type nums: List[int] ex:[3,2,-4,6,4,2,19],[5,1,1,2,0,0]\n",
    "        :rtype: List[int] ex:[-4,2,2,3,4,6,19],[0,0,1,1,2,5]\n",
    "        \"\"\"\n",
    "        n=len(nums)\n",
    "        if n%2 == 0:\n",
    "            for root in range((n/2)-1,-1,-1):\n",
    "                Solution.heapify(self,nums,root,n)\n",
    "        else:\n",
    "            for root in range(((n-1)/2)-1,-1,-1):\n",
    "                Solution.heapify(self,nums,root,n)\n",
    "        return nums        \n",
    "                \n",
    "    def heapify(self,nums,root,length):\n",
    "        left=2*root+1\n",
    "        right=2*root+2\n",
    "\n",
    "        if left < length and right <length:\n",
    "            if nums[left]>nums[right]:\n",
    "                if nums[left]>nums[root]:\n",
    "                    Max=left\n",
    "                else:\n",
    "                    Max=root\n",
    "            else:\n",
    "                if nums[right]>nums[root]:\n",
    "                    Max=right\n",
    "                else:\n",
    "                    Max=root\n",
    "        elif left<length and right>=length:\n",
    "            if nums[left]>nums[root]:\n",
    "                Max=left\n",
    "            else:\n",
    "                Max=root\n",
    "        else:\n",
    "            Max=root\n",
    "        if Max != root :\n",
    "            heapify_temp_root=nums[root]\n",
    "            nums[root] =nums[Max]\n",
    "            nums[Max]=heapify_temp_root\n",
    "            Solution.heapify(self,nums,Max,length)"
   ]
  },
  {
   "cell_type": "markdown",
   "metadata": {},
   "source": [
    "這裡我在紙上寫了幾個例子然後找到了規則，\n",
    "\n",
    "(ex: nums=[1,2,3,4,5] , n=5 , 將nums畫成tree的型態，最後一個小樹的root是index=1)\n",
    "\n",
    "(ex: nums=[1,2,3,4] , n=4 , 將nums畫成tree的型態，最後一個小樹的root是index=1)\n",
    "\n",
    "(ex: nums=[1,2,3,4,5,6] , n=6 , 將nums畫成tree的型態，最後一個小樹的root是index=2)\n",
    "\n",
    "假如我的nums總長度是n，最下面的那個小樹的root的index會是(n/2)-1，\n",
    "\n",
    "而我為了避免小數點發生設了兩種狀況\n",
    "\n",
    "1. n為偶數(n%2=0):\n",
    "   \n",
    "   那麼我的n/2就會是整數，只要-1就好，然後為了要讓迴圈跑到最上面那個小樹的root，也就是0，因此迴圈的最後的部分必須設-1\n",
    " \n",
    " \n",
    "2. n為奇數(n%2 != 0):\n",
    "   \n",
    "   那麼我的n/2會有小數點，因此這時候必須先把n-1，再把(n-1)/2，之後再把((n-1)/2)-1，一樣為了讓迴圈跑到最上面小樹的root，迴圈最後必須設-1\n"
   ]
  },
  {
   "cell_type": "code",
   "execution_count": 2,
   "metadata": {},
   "outputs": [
    {
     "ename": "TypeError",
     "evalue": "'float' object cannot be interpreted as an integer",
     "output_type": "error",
     "traceback": [
      "\u001b[1;31m---------------------------------------------------------------------------\u001b[0m",
      "\u001b[1;31mTypeError\u001b[0m                                 Traceback (most recent call last)",
      "\u001b[1;32m<ipython-input-2-5c8f07750b7d>\u001b[0m in \u001b[0;36m<module>\u001b[1;34m\u001b[0m\n\u001b[1;32m----> 1\u001b[1;33m \u001b[0mSolution\u001b[0m\u001b[1;33m(\u001b[0m\u001b[1;33m)\u001b[0m\u001b[1;33m.\u001b[0m\u001b[0mheap_sort\u001b[0m\u001b[1;33m(\u001b[0m\u001b[1;33m[\u001b[0m\u001b[1;36m3\u001b[0m\u001b[1;33m,\u001b[0m\u001b[1;36m2\u001b[0m\u001b[1;33m,\u001b[0m\u001b[1;36m5\u001b[0m\u001b[1;33m,\u001b[0m\u001b[1;36m4\u001b[0m\u001b[1;33m,\u001b[0m\u001b[1;36m1\u001b[0m\u001b[1;33m]\u001b[0m\u001b[1;33m)\u001b[0m\u001b[1;33m\u001b[0m\u001b[1;33m\u001b[0m\u001b[0m\n\u001b[0m",
      "\u001b[1;32m<ipython-input-1-50f16534d3c5>\u001b[0m in \u001b[0;36mheap_sort\u001b[1;34m(self, nums)\u001b[0m\n\u001b[0;32m     10\u001b[0m                 \u001b[0mSolution\u001b[0m\u001b[1;33m.\u001b[0m\u001b[0mheapify\u001b[0m\u001b[1;33m(\u001b[0m\u001b[0mself\u001b[0m\u001b[1;33m,\u001b[0m\u001b[0mnums\u001b[0m\u001b[1;33m,\u001b[0m\u001b[0mroot\u001b[0m\u001b[1;33m,\u001b[0m\u001b[0mn\u001b[0m\u001b[1;33m)\u001b[0m\u001b[1;33m\u001b[0m\u001b[1;33m\u001b[0m\u001b[0m\n\u001b[0;32m     11\u001b[0m         \u001b[1;32melse\u001b[0m\u001b[1;33m:\u001b[0m\u001b[1;33m\u001b[0m\u001b[1;33m\u001b[0m\u001b[0m\n\u001b[1;32m---> 12\u001b[1;33m             \u001b[1;32mfor\u001b[0m \u001b[0mroot\u001b[0m \u001b[1;32min\u001b[0m \u001b[0mrange\u001b[0m\u001b[1;33m(\u001b[0m\u001b[1;33m(\u001b[0m\u001b[1;33m(\u001b[0m\u001b[0mn\u001b[0m\u001b[1;33m-\u001b[0m\u001b[1;36m1\u001b[0m\u001b[1;33m)\u001b[0m\u001b[1;33m/\u001b[0m\u001b[1;36m2\u001b[0m\u001b[1;33m)\u001b[0m\u001b[1;33m-\u001b[0m\u001b[1;36m1\u001b[0m\u001b[1;33m,\u001b[0m\u001b[1;33m-\u001b[0m\u001b[1;36m1\u001b[0m\u001b[1;33m,\u001b[0m\u001b[1;33m-\u001b[0m\u001b[1;36m1\u001b[0m\u001b[1;33m)\u001b[0m\u001b[1;33m:\u001b[0m\u001b[1;33m\u001b[0m\u001b[1;33m\u001b[0m\u001b[0m\n\u001b[0m\u001b[0;32m     13\u001b[0m                 \u001b[0mSolution\u001b[0m\u001b[1;33m.\u001b[0m\u001b[0mheapify\u001b[0m\u001b[1;33m(\u001b[0m\u001b[0mself\u001b[0m\u001b[1;33m,\u001b[0m\u001b[0mnums\u001b[0m\u001b[1;33m,\u001b[0m\u001b[0mroot\u001b[0m\u001b[1;33m,\u001b[0m\u001b[0mn\u001b[0m\u001b[1;33m)\u001b[0m\u001b[1;33m\u001b[0m\u001b[1;33m\u001b[0m\u001b[0m\n\u001b[0;32m     14\u001b[0m         \u001b[1;32mreturn\u001b[0m \u001b[0mnums\u001b[0m\u001b[1;33m\u001b[0m\u001b[1;33m\u001b[0m\u001b[0m\n",
      "\u001b[1;31mTypeError\u001b[0m: 'float' object cannot be interpreted as an integer"
     ]
    }
   ],
   "source": [
    "Solution().heap_sort([3,2,5,4,1])"
   ]
  },
  {
   "cell_type": "markdown",
   "metadata": {},
   "source": [
    "但系統認定似乎還是包含小數點，因此我改用了「//」這個運算符號"
   ]
  },
  {
   "cell_type": "code",
   "execution_count": 3,
   "metadata": {},
   "outputs": [],
   "source": [
    "class Solution(object):\n",
    "    def heap_sort(self, nums):\n",
    "        \"\"\"\n",
    "        :type nums: List[int] ex:[3,2,-4,6,4,2,19],[5,1,1,2,0,0]\n",
    "        :rtype: List[int] ex:[-4,2,2,3,4,6,19],[0,0,1,1,2,5]\n",
    "        \"\"\"\n",
    "        n=len(nums)\n",
    "        if n%2 == 0:\n",
    "            for root in range((n//2)-1,-1,-1):\n",
    "                Solution.heapify(self,nums,root,n)\n",
    "        else:\n",
    "            for root in range(((n-1)//2)-1,-1,-1):\n",
    "                Solution.heapify(self,nums,root,n)\n",
    "        return nums        \n",
    "                \n",
    "    def heapify(self,nums,root,length):\n",
    "        left=2*root+1\n",
    "        right=2*root+2\n",
    "\n",
    "        if left < length and right <length:\n",
    "            if nums[left]>nums[right]:\n",
    "                if nums[left]>nums[root]:\n",
    "                    Max=left\n",
    "                else:\n",
    "                    Max=root\n",
    "            else:\n",
    "                if nums[right]>nums[root]:\n",
    "                    Max=right\n",
    "                else:\n",
    "                    Max=root\n",
    "        elif left<length and right>=length:\n",
    "            if nums[left]>nums[root]:\n",
    "                Max=left\n",
    "            else:\n",
    "                Max=root\n",
    "        else:\n",
    "            Max=root\n",
    "        if Max != root :\n",
    "            heapify_temp_root=nums[root]\n",
    "            nums[root] =nums[Max]\n",
    "            nums[Max]=heapify_temp_root\n",
    "            Solution.heapify(self,nums,Max,length)"
   ]
  },
  {
   "cell_type": "code",
   "execution_count": 4,
   "metadata": {},
   "outputs": [
    {
     "data": {
      "text/plain": [
       "[5, 4, 3, 2, 1]"
      ]
     },
     "execution_count": 4,
     "metadata": {},
     "output_type": "execute_result"
    }
   ],
   "source": [
    "Solution().heap_sort([3,2,5,4,1])"
   ]
  },
  {
   "cell_type": "markdown",
   "metadata": {},
   "source": [
    "### 成功了!\n",
    "現在要想的是如何像影片中一樣，把最前面的Max值取出然後把nums中最後面那個數補到最前面，\n",
    "\n",
    "並讓補上的數從上而下進行heapify的動作(影片中稱之為sift-down)"
   ]
  },
  {
   "cell_type": "markdown",
   "metadata": {},
   "source": [
    "### 遺忘的錯誤\n",
    "對了，那時候在跑Heap_Sort的時候跑出了一個Error，只是因為改設定解決了就沒有再跑出Error了\n",
    "\n",
    "那時候跑出了maximum recursion depth exceeded in comparison這個error\n",
    "\n",
    "後來我上網查，似乎是跑遞迴的時候超出了原本的限定，發現了解決方法(如下)\n",
    "\n",
    "參考網址:https://www.cnblogs.com/Zhanxueyou/p/3799410.html"
   ]
  },
  {
   "cell_type": "code",
   "execution_count": null,
   "metadata": {},
   "outputs": [],
   "source": [
    "import sys\n",
    "sys.setrecursionlimit(10000000)"
   ]
  },
  {
   "cell_type": "markdown",
   "metadata": {},
   "source": [
    "### 最後一步了\n",
    "我一開始的想法是把最上面的Max值append到另一個空的list，\n",
    "\n",
    "然後把nums中的那個Max值(在index=0的位置)刪掉，把nums最後面的值丟到位置index=0\n",
    "\n",
    "並讓index=0的那個root改由上而下進行heapify，也就是比大小排列的動作(sift-dowb)\n",
    "\n",
    "而把Max取出再刪掉的次數，也就是for的範圍，我寫下了以下過程:\n",
    "1. 當nums=[3,2,5,4,1]，在建立Max_heap後，必須先把5取出(第一次)\n",
    "2. 第二次應該是sift-down後要把4取出(第二次)\n",
    "3. 第三次應該是sift-down第二次後要把3取出(第三次)\n",
    "4. 第四次應該是sift-down第三次後要把2取出(第四次)\n",
    "5. 第五次應該是在nums剩下[1]的時候，把1取出\n",
    "\n",
    "這樣新的list中剛好會是[5,4,3,2,1]\n",
    "\n",
    "所以迴圈必須重複n次"
   ]
  },
  {
   "cell_type": "code",
   "execution_count": 56,
   "metadata": {},
   "outputs": [],
   "source": [
    "class Solution(object):\n",
    "    def heapify(self,nums,root,length):\n",
    "        left=2*root+1\n",
    "        right=2*root+2\n",
    "\n",
    "        if left < length and right <length:\n",
    "            if nums[left]>nums[right]:\n",
    "                if nums[left]>nums[root]:\n",
    "                    Max=left\n",
    "                else:\n",
    "                    Max=root\n",
    "            else:\n",
    "                if nums[right]>nums[root]:\n",
    "                    Max=right\n",
    "                else:\n",
    "                    Max=root\n",
    "        elif left<length and right>=length:\n",
    "            if nums[left]>nums[root]:\n",
    "                Max=left\n",
    "            else:\n",
    "                Max=root\n",
    "        else:\n",
    "            Max=root\n",
    "        if Max != root :\n",
    "            heapify_temp_root=nums[root]\n",
    "            nums[root] =nums[Max]\n",
    "            nums[Max]=heapify_temp_root\n",
    "            Solution.heapify(self,nums,Max,length)\n",
    "        \n",
    "    def heap_sort(self, nums):\n",
    "        \"\"\"\n",
    "        :type nums: List[int] ex:[3,2,-4,6,4,2,19],[5,1,1,2,0,0]\n",
    "        :rtype: List[int] ex:[-4,2,2,3,4,6,19],[0,0,1,1,2,5]\n",
    "        \"\"\"\n",
    "        ans=[]\n",
    "        n=len(nums)\n",
    "        if n%2 == 0:\n",
    "            for root in range((n//2)-1,-1,-1):\n",
    "                Solution.heapify(self,nums,root,n)\n",
    "        else:\n",
    "            for root in range(((n-1)//2)-1,-1,-1):\n",
    "                Solution.heapify(self,nums,root,n)\n",
    "            \n",
    "        for i in range(0,n):\n",
    "            ans.append(nums[0])\n",
    "            del nums[0]\n",
    "            #nums[n-1]\n",
    "            Solution.heapify(self,nums,0,n)\n",
    "        return nums"
   ]
  },
  {
   "cell_type": "markdown",
   "metadata": {},
   "source": [
    "但這裡我還不知道該怎麼樣把最後一個數加到nums[0]的位置，\n",
    "\n",
    "所以我先照Pseudocode的邏輯，以交換位置的方式來將第一個數跟最後一個數交換，並在交換後進行sift-down(如下)\n",
    "\n",
    "而for迴圈的次數我也重新算了一次，也就是nums中第一個和最後一個數交換的次數，:\n",
    "1. 當nums=[3,2,5,4,1]，在建立Max_heap後，必須先把5換到最後(第一次)\n",
    "2. 第二次應該是sift-down後要把4換到倒數第二個(第二次)\n",
    "3. 第三次應該是sift-down第二次後要把3換到倒數第三個(第三次)\n",
    "4. 第四次應該是sift-down第三次後要把2換到到數第二個數(第四次)\n",
    "\n",
    "這樣排完的nums剛好會是[1,2,3,4,5]\n",
    "\n",
    "所以迴圈必須重複n-1次"
   ]
  },
  {
   "cell_type": "code",
   "execution_count": 9,
   "metadata": {},
   "outputs": [],
   "source": [
    "class Solution(object):\n",
    "    def heapify(self,nums,root,length):\n",
    "        left=2*root+1            \n",
    "        right=2*root+2\n",
    "\n",
    "        if left < length and right <length:       \n",
    "            if nums[left]>nums[right]:\n",
    "                if nums[left]>nums[root]:\n",
    "                    Max=left\n",
    "                else:\n",
    "                    Max=root\n",
    "            else:\n",
    "                if nums[right]>nums[root]:\n",
    "                    Max=right\n",
    "                else:\n",
    "                    Max=root\n",
    "        elif left<length and right>=length:\n",
    "            if nums[left]>nums[root]:\n",
    "                Max=left\n",
    "            else:\n",
    "                Max=root\n",
    "        else:\n",
    "            Max=root\n",
    "        if Max != root :\n",
    "            heapify_temp_root=nums[root]\n",
    "            nums[root] =nums[Max]\n",
    "            nums[Max]=heapify_temp_root\n",
    "            Solution.heapify(self,nums,Max,length)\n",
    "        \n",
    "    def heap_sort(self, nums):\n",
    "        \"\"\"\n",
    "        :type nums: List[int] ex:[3,2,-4,6,4,2,19],[5,1,1,2,0,0]\n",
    "        :rtype: List[int] ex:[-4,2,2,3,4,6,19],[0,0,1,1,2,5]\n",
    "        \"\"\"\n",
    "        n=len(nums)\n",
    "        if n%2 == 0:                            \n",
    "            for root in range((n//2)-1,-1,-1):\n",
    "                Solution.heapify(self,nums,root,n)\n",
    "        else:\n",
    "            for root in range(((n-1)//2)-1,-1,-1):\n",
    "                Solution.heapify(self,nums,root,n)\n",
    "            \n",
    "            \n",
    "        for i in range(0,n-1):               \n",
    "            heap_sort_temp_Max=nums[0]\n",
    "            nums[0]=nums[n-1]\n",
    "            nums[n-1]=heap_sort_temp_Max\n",
    "            Solution.heapify(self,nums,0,n)    \n",
    "        return nums\n",
    "        "
   ]
  },
  {
   "cell_type": "code",
   "execution_count": 10,
   "metadata": {},
   "outputs": [
    {
     "data": {
      "text/plain": [
       "[5, 4, 3, 2, 1]"
      ]
     },
     "execution_count": 10,
     "metadata": {},
     "output_type": "execute_result"
    }
   ],
   "source": [
    "Solution().heap_sort([3,2,5,4,1])"
   ]
  },
  {
   "cell_type": "markdown",
   "metadata": {},
   "source": [
    "結果似乎與預期的不太一樣，想也想不通是為什麼\n",
    "\n",
    "所以我...把全部過程print出來\n"
   ]
  },
  {
   "cell_type": "code",
   "execution_count": 11,
   "metadata": {},
   "outputs": [],
   "source": [
    "class Solution(object):\n",
    "    def heapify(self,nums,root,length):\n",
    "        left=2*root+1            \n",
    "        right=2*root+2\n",
    "\n",
    "        if left < length and right <length:      \n",
    "            if nums[left]>nums[right]:\n",
    "                if nums[left]>nums[root]:\n",
    "                    Max=left\n",
    "                else:\n",
    "                    Max=root\n",
    "            else:\n",
    "                if nums[right]>nums[root]:\n",
    "                    Max=right\n",
    "                else:\n",
    "                    Max=root\n",
    "        elif left<length and right>=length:\n",
    "            if nums[left]>nums[root]:\n",
    "                Max=left\n",
    "            else:\n",
    "                Max=root\n",
    "        else:\n",
    "            Max=root\n",
    "        if Max != root :\n",
    "            heapify_temp_root=nums[root]\n",
    "            nums[root] =nums[Max]\n",
    "            nums[Max]=heapify_temp_root\n",
    "            Solution.heapify(self,nums,Max,length)\n",
    "        \n",
    "    def heap_sort(self, nums):\n",
    "        \"\"\"\n",
    "        :type nums: List[int] ex:[3,2,-4,6,4,2,19],[5,1,1,2,0,0]\n",
    "        :rtype: List[int] ex:[-4,2,2,3,4,6,19],[0,0,1,1,2,5]\n",
    "        \"\"\"\n",
    "        n=len(nums)\n",
    "        if n%2 == 0:                          \n",
    "            for root in range((n//2)-1,-1,-1):\n",
    "                Solution.heapify(self,nums,root,n)\n",
    "        else:\n",
    "            for root in range(((n-1)//2)-1,-1,-1):\n",
    "                Solution.heapify(self,nums,root,n)\n",
    "            \n",
    "            \n",
    "        for i in range(0,n-1):               \n",
    "            heap_sort_temp_Max=nums[0]\n",
    "            nums[0]=nums[n-1]\n",
    "            nums[n-1]=heap_sort_temp_Max\n",
    "            print(nums)\n",
    "            Solution.heapify(self,nums,0,n)     \n",
    "            \n",
    "        return nums\n",
    "        "
   ]
  },
  {
   "cell_type": "code",
   "execution_count": 12,
   "metadata": {},
   "outputs": [
    {
     "name": "stdout",
     "output_type": "stream",
     "text": [
      "[1, 4, 3, 2, 5]\n",
      "[1, 5, 3, 2, 4]\n",
      "[1, 4, 3, 2, 5]\n",
      "[1, 5, 3, 2, 4]\n"
     ]
    },
    {
     "data": {
      "text/plain": [
       "[5, 4, 3, 2, 1]"
      ]
     },
     "execution_count": 12,
     "metadata": {},
     "output_type": "execute_result"
    }
   ],
   "source": [
    "Solution().heap_sort([3,2,5,4,1])"
   ]
  },
  {
   "cell_type": "markdown",
   "metadata": {},
   "source": [
    "我在紙上畫出來的結果第一次跟這裡一樣沒錯，是[1,4,3,2,5]，\n",
    "\n",
    "但我預期第二次sift-down完的時候，我紙上畫的結果是[4,2,3,1,5]，然後把nums[0]跟nums[n-1]對調\n",
    "\n",
    "而且我在紙上怎麼畫好像都畫不出print出來的結果\n",
    "\n",
    "**發現問題**\n",
    "\n",
    "我認為的問題有兩個:\n",
    "1. 如果我是用交換的方式而不把第一次排完的最大值刪掉，那麼我回傳heapify的時候，最大值會再重新一起排列\n",
    "\n",
    "2. 再進行完第一次sift-down的時候，nums[0]跟nums[n-1]交換，會把我原本排好的(5)跟著對調，但應該是要跟nums[n-2]互換\n",
    "\n",
    "因此我設了一個迴圈來測試"
   ]
  },
  {
   "cell_type": "code",
   "execution_count": 61,
   "metadata": {},
   "outputs": [
    {
     "name": "stdout",
     "output_type": "stream",
     "text": [
      "5\n",
      "5\n",
      "5\n",
      "5\n",
      "4\n",
      "3\n",
      "2\n",
      "1\n"
     ]
    }
   ],
   "source": [
    "n=5\n",
    "for i in range(0,n-1):\n",
    "    print(n)\n",
    "\n",
    "for i in range(0,n-1):\n",
    "    n-=1\n",
    "    print(n)"
   ]
  },
  {
   "cell_type": "markdown",
   "metadata": {},
   "source": [
    "因為我的n從第一次呼叫heap_sort之後就都沒有改變了，n一直都=5，所以導致在sift-down跟交換位置的時候出問題\n",
    "\n",
    "我發現每次在進行sift-down之前應該讓n-1，這樣就不會把排好的繼續丟進去排列，也不會把已經換好位置的數又交換一次"
   ]
  },
  {
   "cell_type": "code",
   "execution_count": 13,
   "metadata": {},
   "outputs": [],
   "source": [
    "class Solution(object):\n",
    "    def heapify(self,nums,root,length):\n",
    "        left=2*root+1             #設定每個root對應的left跟right\n",
    "        right=2*root+2\n",
    "\n",
    "        if left < length and right <length:       #將left、right、root比大小\n",
    "            if nums[left]>nums[right]:\n",
    "                if nums[left]>nums[root]:\n",
    "                    Max=left\n",
    "                else:\n",
    "                    Max=root\n",
    "            else:\n",
    "                if nums[right]>nums[root]:\n",
    "                    Max=right\n",
    "                else:\n",
    "                    Max=root\n",
    "        elif left<length and right>=length:\n",
    "            if nums[left]>nums[root]:\n",
    "                Max=left\n",
    "            else:\n",
    "                Max=root\n",
    "        else:\n",
    "            Max=root\n",
    "        if Max != root :\n",
    "            heapify_temp_root=nums[root]\n",
    "            nums[root] =nums[Max]\n",
    "            nums[Max]=heapify_temp_root\n",
    "            Solution.heapify(self,nums,Max,length)\n",
    "        \n",
    "    def heap_sort(self, nums):\n",
    "        \"\"\"\n",
    "        :type nums: List[int] ex:[3,2,-4,6,4,2,19],[5,1,1,2,0,0]\n",
    "        :rtype: List[int] ex:[-4,2,2,3,4,6,19],[0,0,1,1,2,5]\n",
    "        \"\"\"\n",
    "        n=len(nums)\n",
    "        if n%2 == 0:                            #變成Max_heap\n",
    "            for root in range((n//2)-1,-1,-1):\n",
    "                Solution.heapify(self,nums,root,n)\n",
    "        else:\n",
    "            for root in range(((n-1)//2)-1,-1,-1):\n",
    "                Solution.heapify(self,nums,root,n)\n",
    "            \n",
    "            \n",
    "        for i in range(0,n-1):               #重複執行把nums中頭跟尾的數對調，並進行sift-down\n",
    "            heap_sort_temp_Max=nums[0]\n",
    "            nums[0]=nums[n-1]\n",
    "            nums[n-1]=heap_sort_temp_Max\n",
    "            n-=1\n",
    "            Solution.heapify(self,nums,0,n)     #sift-down\n",
    "        return nums\n",
    "        "
   ]
  },
  {
   "cell_type": "code",
   "execution_count": 14,
   "metadata": {},
   "outputs": [
    {
     "data": {
      "text/plain": [
       "[1, 2, 3, 4, 5]"
      ]
     },
     "execution_count": 14,
     "metadata": {},
     "output_type": "execute_result"
    }
   ],
   "source": [
    "Solution().heap_sort([3,2,5,4,1])"
   ]
  },
  {
   "cell_type": "markdown",
   "metadata": {},
   "source": [
    "### 終於完成了!!!!太感動了\n",
    "但我還是想依照我的方式，試試看新建一個空的list值去放入每一次的Max值的方法"
   ]
  },
  {
   "cell_type": "code",
   "execution_count": 15,
   "metadata": {},
   "outputs": [],
   "source": [
    "class Solution(object):\n",
    "    def heapify(self,nums,root,length):\n",
    "        left=2*root+1\n",
    "        right=2*root+2\n",
    "\n",
    "        if left < length and right <length:\n",
    "            if nums[left]>nums[right]:\n",
    "                if nums[left]>nums[root]:\n",
    "                    Max=left\n",
    "                else:\n",
    "                    Max=root\n",
    "            else:\n",
    "                if nums[right]>nums[root]:\n",
    "                    Max=right\n",
    "                else:\n",
    "                    Max=root\n",
    "        elif left<length and right>=length:\n",
    "            if nums[left]>nums[root]:\n",
    "                Max=left\n",
    "            else:\n",
    "                Max=root\n",
    "        else:\n",
    "            Max=root\n",
    "        if Max != root :\n",
    "            heapify_temp_root=nums[root]\n",
    "            nums[root] =nums[Max]\n",
    "            nums[Max]=heapify_temp_root\n",
    "            Solution.heapify(self,nums,Max,length)\n",
    "        \n",
    "    def heap_sort(self, nums):\n",
    "        \"\"\"\n",
    "        :type nums: List[int] ex:[3,2,-4,6,4,2,19],[5,1,1,2,0,0]\n",
    "        :rtype: List[int] ex:[-4,2,2,3,4,6,19],[0,0,1,1,2,5]\n",
    "        \"\"\"\n",
    "        ans=[]\n",
    "        n=len(nums)\n",
    "        if n%2 == 0:\n",
    "            for root in range((n//2)-1,-1,-1):\n",
    "                Solution.heapify(self,nums,root,n)\n",
    "        else:\n",
    "            for root in range(((n-1)//2)-1,-1,-1):\n",
    "                Solution.heapify(self,nums,root,n)\n",
    "            \n",
    "        for i in range(0,n):\n",
    "            ans.append(nums[0])\n",
    "            nums[0]=nums[n-1]\n",
    "            del nums[n-1]\n",
    "            n=n-1\n",
    "            Solution.heapify(self,nums,0,n)\n",
    "        ans=ans[::-1]\n",
    "        return ans"
   ]
  },
  {
   "cell_type": "code",
   "execution_count": 16,
   "metadata": {},
   "outputs": [
    {
     "data": {
      "text/plain": [
       "[1, 2, 3, 4, 5]"
      ]
     },
     "execution_count": 16,
     "metadata": {},
     "output_type": "execute_result"
    }
   ],
   "source": [
    "Solution().heap_sort([3,2,5,4,1])"
   ]
  },
  {
   "cell_type": "markdown",
   "metadata": {},
   "source": [
    "### 成功改成自己的樣子了!!!真爽"
   ]
  },
  {
   "cell_type": "markdown",
   "metadata": {},
   "source": [
    "## 我的heap_sort流程圖\n",
    "![流程圖](pic/heap_sort.png)"
   ]
  }
 ],
 "metadata": {
  "kernelspec": {
   "display_name": "Python 3",
   "language": "python",
   "name": "python3"
  },
  "language_info": {
   "codemirror_mode": {
    "name": "ipython",
    "version": 3
   },
   "file_extension": ".py",
   "mimetype": "text/x-python",
   "name": "python",
   "nbconvert_exporter": "python",
   "pygments_lexer": "ipython3",
   "version": "3.7.1"
  }
 },
 "nbformat": 4,
 "nbformat_minor": 2
}
